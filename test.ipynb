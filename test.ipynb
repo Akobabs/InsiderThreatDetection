{
 "cells": [
  {
   "cell_type": "code",
   "execution_count": 1,
   "metadata": {},
   "outputs": [],
   "source": [
    "import numpy as np\n",
    "import networkx as nx\n",
    "import csv\n",
    "import matplotlib.pyplot as plt\n",
    "import time\n",
    "import os\n",
    "from tqdm import tqdm\n",
    "import datetime\n",
    "from construct_rule import *\n",
    "\n",
    "def extract_vertices_from_files(directory_path):\n",
    "    \"\"\"Extract vertices from CSV files in the specified directory.\"\"\"\n",
    "    print(\"Extracting vertices from data files:\")\n",
    "    vertices = []\n",
    "\n",
    "    # Process logon.csv\n",
    "    with open(os.path.join(directory_path, \"logon.csv\"), 'r') as file:\n",
    "        print(\"...Processing logon.csv...\")\n",
    "        reader = csv.reader(file)\n",
    "        next(reader)  # Skip header\n",
    "        for row in tqdm(reader):\n",
    "            vertex_id = row[0]\n",
    "            timestamp = time.mktime(time.strptime(row[1], '%m/%d/%Y %H:%M:%S'))\n",
    "            vertex = {\n",
    "                'vertex_type': 'logon',\n",
    "                'vertex_id': vertex_id,\n",
    "                'user': row[2],\n",
    "                'pc': row[3],\n",
    "                'activity': row[4],\n",
    "                'timestamp': timestamp,\n",
    "                'host': row[3],\n",
    "                'time_str': row[1]\n",
    "            }\n",
    "            vertices.append(vertex)\n",
    "\n",
    "    # Process file.csv\n",
    "    with open(os.path.join(directory_path, \"file.csv\"), 'r') as file:\n",
    "        print(\"...Processing file.csv...\")\n",
    "        reader = csv.reader(file)\n",
    "        next(reader)\n",
    "        for row in tqdm(reader):\n",
    "            vertex_id = row[0]\n",
    "            timestamp = time.mktime(time.strptime(row[1], '%m/%d/%Y %H:%M:%S'))\n",
    "            vertex = {\n",
    "                'vertex_type': 'file',\n",
    "                'vertex_id': vertex_id,\n",
    "                'user': row[2],\n",
    "                'filename': row[4],\n",
    "                'activity': row[5],\n",
    "                'timestamp': timestamp,\n",
    "                'host': row[3],\n",
    "                'time_str': row[1]\n",
    "            }\n",
    "            vertices.append(vertex)\n",
    "\n",
    "    # Process http.csv\n",
    "    with open(os.path.join(directory_path, \"http.csv\"), 'r') as file:\n",
    "        print(\"...Processing http.csv...\")\n",
    "        reader = csv.reader(file)\n",
    "        next(reader)\n",
    "        for row in tqdm(reader):\n",
    "            vertex_id = row[0]\n",
    "            timestamp = time.mktime(time.strptime(row[1], '%m/%d/%Y %H:%M:%S'))\n",
    "            vertex = {\n",
    "                'vertex_type': 'http',\n",
    "                'vertex_id': vertex_id,\n",
    "                'user': row[2],\n",
    "                'url': row[4].split(' ')[0],\n",
    "                'activity': \"visit\",\n",
    "                'timestamp': timestamp,\n",
    "                'host': row[3],\n",
    "                'content_list': row[4].split(' ')[1:],\n",
    "                'time_str': row[1]\n",
    "            }\n",
    "            vertices.append(vertex)\n",
    "\n",
    "    # Process device.csv\n",
    "    with open(os.path.join(directory_path, \"device.csv\"), 'r') as file:\n",
    "        print(\"...Processing device.csv...\")\n",
    "        reader = csv.reader(file)\n",
    "        next(reader)\n",
    "        for row in tqdm(reader):\n",
    "            vertex_id = row[0]\n",
    "            timestamp = time.mktime(time.strptime(row[1], '%m/%d/%Y %H:%M:%S'))\n",
    "            vertex = {\n",
    "                'vertex_type': 'device',\n",
    "                'vertex_id': vertex_id,\n",
    "                'user': row[2],\n",
    "                'host': row[3],\n",
    "                'activity': row[-1],\n",
    "                'timestamp': timestamp,\n",
    "                'file_tree': row[4],\n",
    "                'time_str': row[1]\n",
    "            }\n",
    "            vertices.append(vertex)\n",
    "\n",
    "    # Sort vertices by user and timestamp\n",
    "    sorted_vertices = sorted(vertices, key=lambda x: (x['user'], x['timestamp']))\n",
    "    \n",
    "    print(\"Sample of sorted vertices:\")\n",
    "    print(sorted_vertices[:1])\n",
    "\n",
    "    return sorted_vertices\n",
    "\n",
    "def calculate_day_difference(timestamp1, timestamp2):\n",
    "    \"\"\"Calculate the number of days between two timestamps.\"\"\"\n",
    "    delta = datetime.datetime.fromtimestamp(timestamp1) - datetime.datetime.fromtimestamp(timestamp2)\n",
    "    return delta.days\n",
    "\n",
    "def get_total_days(sorted_vertices):\n",
    "    \"\"\"Determine the total number of days spanned by the dataset.\"\"\"\n",
    "    earliest_time = float('inf')\n",
    "    latest_time = 0\n",
    "    for vertex in sorted_vertices:\n",
    "        if vertex['timestamp'] > latest_time:\n",
    "            latest_time = vertex['timestamp']\n",
    "        if vertex['timestamp'] < earliest_time:\n",
    "            earliest_time = vertex['timestamp']\n",
    "\n",
    "    total_days = calculate_day_difference(latest_time, earliest_time) + 2\n",
    "    print(f\"Dataset spans {total_days} days\")\n",
    "    return total_days\n",
    "\n",
    "def group_vertices_by_day(sorted_vertices, total_days):\n",
    "    \"\"\"Group vertices into daily sequences using MultiGraph.\"\"\"\n",
    "    # Approximately 1000 entries span 4 days\n",
    "    earliest_time = float('inf')\n",
    "    for vertex in sorted_vertices:\n",
    "        if vertex['timestamp'] < earliest_time:\n",
    "            earliest_time = vertex['timestamp']\n",
    "\n",
    "    daily_graphs = [None] * total_days\n",
    "\n",
    "    print(\"...Grouping vertices by day...\")\n",
    "    for vertex in tqdm(sorted_vertices):\n",
    "        # Calculate the day index (0-based, adjusted by 1)\n",
    "        day_index = calculate_day_difference(vertex['timestamp'], earliest_time) - 1\n",
    "\n",
    "        # Initialize MultiGraph for the day if not already created\n",
    "        if not daily_graphs[day_index]:\n",
    "            daily_graphs[day_index] = nx.MultiGraph()\n",
    "\n",
    "        # Add vertex to the graph\n",
    "        daily_graphs[day_index].add_node(\n",
    "            vertex['vertex_id'],\n",
    "            type=vertex['vertex_type'],\n",
    "            user=vertex['user'],\n",
    "            obj=vertex.get('filename', vertex.get('url', vertex.get('host'))),\n",
    "            activity=vertex['activity'],\n",
    "            timestamp=vertex['timestamp'],\n",
    "            host=vertex['host']\n",
    "        )\n",
    "\n",
    "    return daily_graphs"
   ]
  },
  {
   "cell_type": "code",
   "execution_count": 2,
   "metadata": {},
   "outputs": [],
   "source": [
    "def build_activity_graph(daily_sequences, total_days):\n",
    "    \"\"\"Construct an activity graph based on user behavior across daily sequences.\"\"\"\n",
    "    activity_graph = nx.MultiGraph()\n",
    "\n",
    "    # Rule 1: Connect activities of the same user on the same host within a single day\n",
    "    activity_graph = rule_1(activity_graph, daily_sequences, total_days)\n",
    "    \n",
    "    # Rule 2: Link behavior chains of the same user on the same host across multiple days\n",
    "    activity_graph = rule_2(activity_graph, daily_sequences, total_days)\n",
    "    \n",
    "    # Rule 3: Associate group operation types (e.g., Connect -> Disconnect, File Open -> File Write, web visits)\n",
    "    # for the same user on the same host across multiple days\n",
    "    activity_graph = rule_3(activity_graph, daily_sequences, total_days)\n",
    "\n",
    "    return activity_graph\n",
    "\n",
    "def build_company_graph():\n",
    "    \"\"\"Placeholder for constructing a company graph.\"\"\"\n",
    "    pass\n",
    "\n",
    "def build_object_graph():\n",
    "    \"\"\"Placeholder for constructing an object graph.\"\"\"\n",
    "    pass\n",
    "\n",
    "# TODO:\n",
    "# 1. Implement build_activity_graph\n",
    "# 2. Implement build_company_graph\n",
    "# 3. Implement build_object_graph\n",
    "# 4. Implement graph merging functionality"
   ]
  },
  {
   "cell_type": "code",
   "execution_count": 3,
   "metadata": {},
   "outputs": [
    {
     "name": "stdout",
     "output_type": "stream",
     "text": [
      "Extracting vertices from data files:\n",
      "...Processing logon.csv...\n"
     ]
    },
    {
     "name": "stderr",
     "output_type": "stream",
     "text": [
      "999it [00:00, 48674.66it/s]\n"
     ]
    },
    {
     "name": "stdout",
     "output_type": "stream",
     "text": [
      "...Processing file.csv...\n"
     ]
    },
    {
     "name": "stderr",
     "output_type": "stream",
     "text": [
      "999it [00:00, 34462.11it/s]\n"
     ]
    },
    {
     "name": "stdout",
     "output_type": "stream",
     "text": [
      "...Processing http.csv...\n"
     ]
    },
    {
     "name": "stderr",
     "output_type": "stream",
     "text": [
      "999it [00:00, 17595.30it/s]\n"
     ]
    },
    {
     "name": "stdout",
     "output_type": "stream",
     "text": [
      "...Processing device.csv...\n"
     ]
    },
    {
     "name": "stderr",
     "output_type": "stream",
     "text": [
      "999it [00:00, 48768.14it/s]\n"
     ]
    },
    {
     "name": "stdout",
     "output_type": "stream",
     "text": [
      "Sample of sorted vertices:\n",
      "[{'vertex_type': 'logon', 'vertex_id': '{Y0A4-H1YL52RQ-3185VBZR}', 'user': 'AAB1302', 'pc': 'PC-5565', 'activity': 'Logon', 'timestamp': 1262419020.0, 'host': 'PC-5565', 'time_str': '01/02/2010 08:57:00'}]\n",
      "Dataset spans 4 days\n",
      "...Grouping vertices by day...\n"
     ]
    },
    {
     "name": "stderr",
     "output_type": "stream",
     "text": [
      "100%|██████████| 3996/3996 [00:00<00:00, 181533.45it/s]\n"
     ]
    }
   ],
   "source": [
    "# start_time = time.time()\n",
    "\n",
    "data_version = \"r_part\"\n",
    "# Extract vertices from CSV files\n",
    "vertices = extract_vertices_from_files(os.path.join(\"./our_data/\", data_version))\n",
    "# Calculate the total number of days in the dataset\n",
    "total_days = get_total_days(vertices)\n",
    "# Group vertices into daily graphs (each element is a graph containing all log nodes for a specific day)\n",
    "daily_sequences = group_vertices_by_day(vertices, total_days)\n",
    "\n",
    "# # Construct activity, company, and object graphs\n",
    "# activity_graph = build_activity_graph(daily_sequences, total_days)\n",
    "# company_graph = build_company_graph()\n",
    "# object_graph = build_object_graph()\n",
    "\n",
    "# # Save the activity graph as an edge list and pickled format\n",
    "# nx.write_edgelist(activity_graph, \"./our_data/activity_graph_edge\")\n",
    "# nx.write_gpickle(activity_graph, \"./our_data/activity_graph.gpickle\")\n",
    "\n",
    "# print(\"Graph saving completed\")\n",
    "# print(f\"Execution time: {time.time() - start_time} seconds\")"
   ]
  },
  {
   "cell_type": "code",
   "execution_count": 4,
   "metadata": {},
   "outputs": [
    {
     "name": "stdout",
     "output_type": "stream",
     "text": [
      "{'type': 'logon', 'user': 'AAG1136', 'obj': 'PC-5456', 'activity': 'Logon', 'timestamp': 1262570670.0, 'host': 'PC-5456'}\n"
     ]
    }
   ],
   "source": [
    "# Access the attributes of a specific node in the second day's graph\n",
    "node_attributes = daily_sequences[1].nodes['{Q2I7-M9EJ92BC-8465IMNM}']\n",
    "print(node_attributes)\n",
    "\n",
    "# Optionally, retrieve all node IDs in the second day's graph\n",
    "# node_ids = list(daily_sequences[1].nodes)"
   ]
  },
  {
   "cell_type": "code",
   "execution_count": 5,
   "metadata": {},
   "outputs": [
    {
     "name": "stdout",
     "output_type": "stream",
     "text": [
      "Number of daily graphs: 4\n"
     ]
    }
   ],
   "source": [
    "# Print the number of daily graphs\n",
    "print(f\"Number of daily graphs: {len(daily_sequences)}\")"
   ]
  },
  {
   "cell_type": "code",
   "execution_count": 6,
   "metadata": {},
   "outputs": [
    {
     "name": "stderr",
     "output_type": "stream",
     "text": [
      "100%|██████████| 4/4 [00:00<00:00, 166.66it/s]\n"
     ]
    }
   ],
   "source": [
    "from itertools import chain\n",
    "\n",
    "def apply_rule_1(activity_graph, daily_sequences, total_days):\n",
    "    \"\"\"Connect nodes for the same user on the same host within the same day.\"\"\"\n",
    "    # Initialize a list to store host-to-node mappings for each day\n",
    "    host_to_nodes = [None] * total_days\n",
    "    \n",
    "    for daily_graph in tqdm(daily_sequences):\n",
    "        if daily_graph:\n",
    "            # Dictionary to group nodes by host within the current day's graph\n",
    "            host_groups = {}\n",
    "            nodes = list(daily_graph.nodes())\n",
    "            for node_id in nodes:\n",
    "                host = daily_graph.nodes[node_id]['host']\n",
    "                if host not in host_groups:\n",
    "                    host_groups[host] = [node_id]\n",
    "                else:\n",
    "                    host_groups[host].append(node_id)\n",
    "                    # Add an edge between consecutive nodes on the same host\n",
    "                    daily_graph.add_edge(\n",
    "                        host_groups[host][-2],\n",
    "                        host_groups[host][-1],\n",
    "                        EdgeType=1,\n",
    "                        weight=1\n",
    "                    )\n",
    "            # Store the host-to-node mapping for the current day\n",
    "            day_index = daily_sequences.index(daily_graph)\n",
    "            host_to_nodes[day_index] = host_groups\n",
    "    \n",
    "    # Return activity_graph unchanged (kept for interface consistency) and host-to-node mappings\n",
    "    return activity_graph, host_to_nodes\n",
    "\n",
    "def apply_rule_2(activity_graph, daily_sequences, total_days, host_to_nodes):\n",
    "    \"\"\"Link behavior chains for the same user on the same host across multiple days.\"\"\"\n",
    "    # Merge all daily graphs into the activity graph\n",
    "    for daily_graph in daily_sequences:\n",
    "        if daily_graph:\n",
    "            activity_graph = nx.compose(activity_graph, daily_graph)\n",
    "    \n",
    "    # Connect nodes across different days for the same host\n",
    "    for day_i in range(total_days):\n",
    "        for day_j in range(day_i + 1, total_days):\n",
    "            if not (daily_sequences[day_i] and daily_sequences[day_j]):\n",
    "                continue\n",
    "            if host_to_nodes[day_i] and host_to_nodes[day_j]:\n",
    "                for host in host_to_nodes[day_i]:\n",
    "                    if host in host_to_nodes[day_j]:\n",
    "                        # Get first and last nodes for the host on both days\n",
    "                        start_i = host_to_nodes[day_i][host][0]\n",
    "                        end_i = host_to_nodes[day_i][host][-1]\n",
    "                        start_j = host_to_nodes[day_j][host][0]\n",
    "                        end_j = host_to_nodes[day_j][host][-1]\n",
    "                        \n",
    "                        # Calculate edge weight based on node counts\n",
    "                        count_i = len(host_to_nodes[day_i][host])\n",
    "                        count_j = len(host_to_nodes[day_j][host])\n",
    "                        weight = min(count_i, count_j) / max(count_i, count_j)\n",
    "                        \n",
    "                        # Add edges between start and end nodes across days\n",
    "                        activity_graph.add_edge(start_i, start_j, EdgeType=2, weight=weight)\n",
    "                        activity_graph.add_edge(end_i, end_j, EdgeType=2, weight=weight)\n",
    "    \n",
    "    return activity_graph\n",
    "\n",
    "def apply_rule_3(activity_graph, daily_sequences, total_days, host_to_nodes):\n",
    "    \"\"\"Associate group operation types (e.g., File Open -> File Write, Connect -> Disconnect) across days.\"\"\"\n",
    "    # Define valid group operation patterns\n",
    "    operation_patterns = [[\"File Open\", \"File Write\"], [\"Connect\", \"Disconnect\"]]\n",
    "    valid_operations = list(chain.from_iterable(operation_patterns))\n",
    "\n",
    "    def identify_pattern_matches(node_ids):\n",
    "        \"\"\"Identify nodes matching group operation patterns for the same object.\"\"\"\n",
    "        # Map activity types to node IDs, tracking if they match a pattern\n",
    "        activity_map = {}\n",
    "        for node_id in node_ids:\n",
    "            act_type = activity_graph.nodes[node_id]['activity']\n",
    "            if act_type in valid_operations:\n",
    "                if act_type not in activity_map:\n",
    "                    activity_map[act_type] = []\n",
    "                # Store node ID and match status (0 = unmatched, 1 = matched)\n",
    "                activity_map[act_type].append([node_id, 0])\n",
    "        \n",
    "        # Match nodes within patterns for the same object\n",
    "        for pattern in operation_patterns:\n",
    "            if pattern[0] in activity_map and pattern[1] in activity_map:\n",
    "                for start_node in activity_map[pattern[0]]:\n",
    "                    obj = activity_graph.nodes[start_node[0]]['obj']\n",
    "                    for end_node in activity_map[pattern[-1]]:\n",
    "                        if obj == activity_graph.nodes[end_node[0]]['obj']:\n",
    "                            start_node[1] = end_node[1] = 1\n",
    "                            break\n",
    "        \n",
    "        # Remove unmatched nodes\n",
    "        for act_type in list(activity_map.keys()):\n",
    "            activity_map[act_type] = [node for node in activity_map[act_type] if node[1] == 1]\n",
    "            if not activity_map[act_type]:\n",
    "                del activity_map[act_type]\n",
    "        \n",
    "        return activity_map\n",
    "\n",
    "    # Organize host activity and pattern matches by host and day\n",
    "    host_day_activities = {}\n",
    "    host_day_patterns = {}\n",
    "    for day_idx in range(total_days):\n",
    "        if host_to_nodes[day_idx] is None:\n",
    "            continue\n",
    "        for host in host_to_nodes[day_idx]:\n",
    "            if host not in host_day_activities:\n",
    "                host_day_activities[host] = []\n",
    "                host_day_patterns[host] = []\n",
    "            host_day_activities[host].append(host_to_nodes[day_idx][host])\n",
    "            host_day_patterns[host].append(identify_pattern_matches(host_to_nodes[day_idx][host]))\n",
    "\n",
    "    # Connect nodes of the same operation type across different days for the same host\n",
    "    for host in host_day_patterns:\n",
    "        for day_i in range(len(host_day_patterns[host])):\n",
    "            for day_j in range(day_i + 1, len(host_day_patterns[host])):\n",
    "                for activity in host_day_patterns[host][day_i]:\n",
    "                    if activity in host_day_patterns[host][day_j]:\n",
    "                        for node_i in host_day_patterns[host][day_i][activity]:\n",
    "                            for node_j in host_day_patterns[host][day_j][activity]:\n",
    "                                # TODO: Define a dynamic weight\n",
    "                                activity_graph.add_edge(node_i[0], node_j[0], EdgeType=3, weight=0.5)\n",
    "\n",
    "    return activity_graph\n",
    "\n",
    "# Initialize the activity graph\n",
    "activity_graph = nx.MultiGraph()\n",
    "\n",
    "# Apply Rule 1: Connect nodes for the same user on the same host within the same day\n",
    "activity_graph, host_to_nodes = apply_rule_1(activity_graph, daily_sequences, total_days)\n",
    "\n",
    "# Apply Rule 2: Link behavior chains across days for the same host\n",
    "activity_graph = apply_rule_2(activity_graph, daily_sequences, total_days, host_to_nodes)\n",
    "\n",
    "# Apply Rule 3: Connect group operation types across days for the same host\n",
    "activity_graph = apply_rule_3(activity_graph, daily_sequences, total_days, host_to_nodes)"
   ]
  },
  {
   "cell_type": "code",
   "execution_count": 7,
   "metadata": {},
   "outputs": [
    {
     "name": "stdout",
     "output_type": "stream",
     "text": [
      "Host-to-node mapping for the last day: {'PC-5565': ['{Y0A4-H1YL52RQ-3185VBZR}', '{I9Z7-P8BH93GZ-3728JYER}', '{B5T6-D9IS87XI-7265XQTC}', '{V6Y1-J0YZ81RE-9196GDRV}', '{B1P9-D0MO83HY-2970LHTX}', '{K5W7-E7DB54VH-8075VMGF}', '{X2F0-W2QL07DJ-7820BSWU}', '{U0U0-Z3TJ40RO-4444CPOP}', '{B8V5-U4UM39SP-1559TSIR}', '{E9M5-Q1GF37JY-3959IYQR}', '{B7R6-C1QJ26IS-6557IWTQ}', '{U4K0-D6RZ00SW-8017AQYD}', '{A0C1-X0QW67TA-6190GRLG}', '{T4U5-M7RS65KK-3980KHJS}', '{G1O2-N0UV95ZF-6212XOVU}', '{X6R1-X8IN05VY-2422RTOO}', '{V8X6-K8DL10YQ-2855MASK}'], 'PC-0765': ['{L2L2-S1KZ66VU-4509IIDB}', '{S0C7-P9DK78RA-0121EQKB}', '{Z4I4-I7QO41CC-1361ZGEI}', '{B9D6-X4HI52XA-9124LWMH}', '{E5Y7-I0AO25KK-5206GALB}', '{Q8I7-J2KM90AE-1480AEEL}'], 'PC-2009': ['{K8O6-Q0GC86VF-1536AAUT}', '{G6P7-Q0TQ86MX-1325UUVZ}', '{T1A7-W9IF66JO-7157EDKL}', '{S2L3-Y7RR70FH-8820IDCD}'], 'PC-9155': ['{X8Y2-S6IG70VE-2437JWPD}', '{W3Y9-Z7TA15OZ-6871JPUP}', '{C4E3-Z9QA61JB-8109GRGY}', '{B4X7-N9UD22XQ-5466HGMX}', '{G5T3-Y0XQ76TY-3213OBNM}', '{X0L2-D0HJ23NF-3634PMMJ}', '{L5S1-F4ST73HA-8882HMLM}', '{O6W9-K8EN15OE-9997WISD}', '{B3O3-A3DB19ZN-7306BUOL}', '{L1Q4-E0FC84HK-0966AVOD}', '{B1B9-A5VQ51UH-1806GKEH}', '{Z0X1-R9MK37LE-5507FYVK}', '{N6F1-N6FE52PX-2709PPAU}', '{T4C8-Y8HI14TO-0017BSIC}', '{K5E1-Z8TS37XX-6254IXIA}', '{I5Z1-J0AO69VJ-0812NPXT}', '{O4X5-N6PC63SN-0756OYNH}'], 'PC-1262': ['{G6I8-Q2GQ66CS-6507WTCW}', '{U5W3-T2PH74NA-7503BJZE}', '{J9W6-U5BU56PU-6601KQKL}', '{S4Y1-E8GD51VT-8720HWJS}', '{T4F3-H4YU28TP-0946NRKK}', '{H6Z8-G8NV48OQ-3769UBTA}', '{Z7E8-W4HP11IX-4851SXUV}', '{R7E4-Q3ZL89WK-0232LGSW}', '{X1C4-S6HS97SB-9398VQDV}'], 'PC-9843': ['{I6W1-W3MG71AW-4776ITNU}', '{D8T9-F3QZ51YK-4550WDLP}', '{M9K7-J1CY69RO-5650PXZQ}', '{O1I5-G1EC18KE-4914DYAN}', '{O8H0-C7SJ19EY-6902FVOE}', '{O6N6-G0KC28FK-5732LRDM}', '{N0D1-O6CS89SK-7705EQGV}', '{Q1L8-R7PV25ID-3053PYRU}', '{B2Z9-R4LK51QH-0088UPME}', '{T8K8-D5YE16SE-9654MTEG}', '{F9O2-W8CW50RW-7835QHKT}', '{Q1M6-X9AO53SK-1739KTTP}', '{O7Q7-C6PN13RI-3536RHUA}', '{W3Z1-P8PG76JT-5582PHRU}', '{A1B1-H9DA74ST-5804OUOA}', '{S5Z3-F3GW36NT-7369QVFO}'], 'PC-1275': ['{E5Y8-B0AL13TY-9228MQOQ}', '{N7E0-B0TE51UH-9012ZKUV}'], 'PC-9002': ['{D9C6-C0PM75RT-4935YGQX}', '{D4P6-T6MW49EF-6599TLDE}'], 'PC-3195': ['{Y1I9-U1LO50BH-2864MVHU}', '{N9S7-A0DO76QF-3535KEUQ}'], 'PC-7292': ['{I6V9-S2ED71QA-5686DJSS}', '{E3G9-J7ZH92WE-9748SBZK}'], 'PC-9290': ['{I4F9-F5MX16IH-4292GSMS}', '{O1N6-T4XD41WN-4420LALN}'], 'PC-5335': ['{Y9Z7-X7DP20UN-1901FNFC}', '{G4A0-D9BN09VK-7341QMQF}', '{N3Z7-T5QB68DO-1127RJIL}', '{Q4N2-V7QL93EV-3675IRXG}', '{W4Q5-A9XS30XF-0794RARV}', '{L7S5-H5ST55FZ-6503QBYR}', '{V4I7-X1UG58ZA-5385KKOE}', '{Y3G3-U3RO88YG-5008JMRS}', '{P9M6-I7PR75CX-3994YHAI}', '{G7U2-F9IF38BW-5110FXPP}', '{Z3J5-H4MN47KC-2743AIBF}', '{L4O2-X4UR84TK-0007BDBS}', '{H4F5-P7RD72UT-6883MMGR}', '{M1O6-G1FY79KG-4360KLFA}', '{N2F6-K5WD50QO-4896OQAZ}', '{L7T2-K5RB06XP-3916SKHF}', '{C3J8-D2OL63IA-1264ZCCN}', '{L0A2-U2OF89DE-4080AIHN}', '{C1D1-C0XP02GX-8137RAIX}', '{R7S9-P3OI75ZY-5997KDKL}', '{N4C5-P0RH40QL-0631HIEO}', '{Z8E0-U0ZD65GC-4138XROK}', '{D7R6-Q4QD28XC-8217JRVG}', '{S7G8-Z8FQ39BW-0607YQYP}', '{N9G5-I8LH00VL-0120NWAD}', '{J5G4-W6EL95HZ-3238WPDG}', '{H9R6-X3QB79CD-7296EICQ}', '{E2W4-V5UM83IH-6931IDMX}', '{W8E6-P0QK40OT-5054AWXW}', '{X6Y7-X7RD93IY-0192EHNS}', '{A8H4-C2VE94SY-7941TCLE}', '{S0I8-O7YS63UV-2196FHFM}', '{K1Y2-C6PV65SH-5177TFTP}', '{R9Y3-A3KQ07IC-3354FQXY}', '{L6E7-L9FO86AE-2968DJAZ}', '{F5L2-I3DC15ND-8758YCVY}', '{W0T5-C0VY96KR-7597KLWW}', '{M9C7-F5ZU53ZF-3984WCVW}', '{X7X9-M7HH34AX-0472TGIQ}', '{Q3Y4-H3IW23CL-1150LAKD}', '{R3B4-F7MY19SI-2149BOZT}', '{D9G7-K0ZO92OF-2022KNKJ}', '{K8S1-G8EA77JE-2681LRNM}', '{I9J4-C8AF59EB-1563IMKU}', '{J0N9-T2RM10VJ-8922JFZO}', '{J7P8-S3UD46XC-9499DZKC}', '{Q1Q6-L0KH31EW-6420PTOC}'], 'PC-1832': ['{L0K2-E2PI32KR-6327LHKO}', '{V8P1-B6AJ41PG-5455WRTU}', '{C1Q0-B2TY10IM-4097CPMN}'], 'PC-4139': ['{V5R9-Z6CL98WL-8806DOTT}', '{T3R8-G2PW40FP-8763KPXA}', '{T2V5-Y2FF18EZ-0060IKVE}', '{C3G8-J8GM98JL-0782XPXV}', '{X1Z3-P5HY60FN-7288KWJS}', '{G2B5-W1AX72AD-3481PWJX}', '{K3N2-B3ZA81JR-9153ICLJ}', '{S3O4-I8BI03CT-0585SDFL}', '{J4H4-Z3PX59PX-0428TMQP}', '{A2J6-M3EY13OX-0525CLUQ}', '{H0D1-H6GD33ZO-7839GCFS}', '{G0P2-N5QL24JB-5466UYAJ}', '{N8F0-Z2TQ76WR-9527VRVT}', '{M3N9-J8XU87PZ-4043IVSK}', '{V4J8-T0QW61EQ-0140ZXHZ}', '{U4H5-I3HI45ED-8077MEGA}', '{N4W6-S3TQ15FO-6317OOOE}', '{C8K7-Y3OO14JC-8179KUZR}', '{N4Y7-A6HW34YE-7071XZNH}', '{N2N4-I4SD49OD-8454SGCY}', '{M5I5-C7AQ82GM-5521VGEE}', '{C6R7-A2PN09FU-9298LNIQ}', '{P9A5-D2TG01NP-7025EINC}', '{C7S4-J1HC42TW-9535YBGC}', '{R2M7-U6YP42NF-6206QJKV}', '{T2E3-Z9PB83DS-0514WIOD}', '{E4H4-D1MM28VM-7058CFIF}', '{Q1L5-D7EF48IE-7180IJDE}', '{U0D2-I5SS68AF-5074RBZD}', '{J3X0-Y5KX23GG-6287HMSN}', '{T5K3-A1KM86UY-0258ZPWI}', '{P2N6-N5UV22ZI-9106QKBX}', '{S4X7-M4MG28CI-4886TISU}', '{N7Q6-Y7OO35VO-5961MDYO}', '{U2X0-H1EN27VB-0405VZLD}', '{F2H9-T4KI81XA-5761ZIOZ}', '{G6F7-P3SM70KH-3341FPRH}'], 'PC-8049': ['{V9P4-R6MQ75CP-4866NJSZ}', '{I1L5-G2UL41QI-3116BQVD}', '{V2C2-Z4MW29JZ-6234VPCW}', '{Z5F3-P4CZ14HI-1758MZSQ}', '{N8P6-Q6BJ75FS-3302SNZR}', '{B1Y5-F7NP30GI-0669ZYCI}'], 'PC-2558': ['{H9L6-T5BK67RE-9499GXDI}', '{Q2S6-F1HE58KK-2131HYBA}', '{L8E6-O1AG72QH-3930OAWX}', '{J0U4-K3IU14TR-7091CHPD}', '{R6G4-Y2WT84PM-2134FLFM}', '{V7I2-M1OW59JQ-3462KXHZ}', '{C4P3-U4XC76LA-8336PGPE}', '{T5G1-J8UR46FV-6905NSBH}', '{P5Q0-F3RW25XK-4922NGEN}', '{Q1P0-V6BO51EL-4334RHUW}', '{W7L3-I5UN21OJ-0878PWZS}', '{A2K0-J7DI05SK-1520QGDA}', '{U3L5-H9JS80RW-3539YWHN}', '{J3Y5-Z6MG42BA-5189XMTN}', '{W0Q2-U9DG49GH-8812XIKF}', '{A3N4-C7OG70EN-7590JUBT}', '{Y1Y6-H4RS16SV-3238GLWI}', '{F3A6-Z5DW21TN-9139NUAD}', '{F2A7-Y1CZ53DL-8503WESV}', '{F3F0-C4QU02UL-0035QSMV}', '{N7Y8-X9IU14ZI-5869VZUJ}', '{I2L8-L7VN33TU-8641AWUL}', '{Z1Q1-L3IY82VE-4858BIYJ}', '{D6N2-Q7AQ72QE-8390NKKX}', '{N0V0-Y6DY77VB-5725HQHO}', '{K3K6-S4AY40RZ-6920URKU}', '{E7D1-I4QD50VJ-4094HYXB}'], 'PC-2477': ['{K7S9-C7KH31FP-7787CVWC}', '{Z5U9-L5JN43YI-3086YRJO}', '{Q8S5-V9ZI00EC-1912GBYD}', '{W5O0-W4XF00KU-7337JEUV}', '{M1I7-T7IA33KX-1492PMGS}', '{D8C5-F7OR15ST-8068GSLR}', '{I3E8-V1TK40XO-6933DKJR}', '{V8A0-R5OC59IN-9499EKXU}', '{E0B6-B1TG19QT-8497LFPW}', '{B9L7-I7OA04NS-7698LCKN}', '{P3U7-G4YA36SV-0878FQPD}', '{N0W3-Y4PZ85MX-4723HLTH}', '{V0Q8-V2BA14BC-1263NETG}', '{H8C0-M3NY16GZ-3768PMGN}', '{F9S7-L2PL01CP-9223GYSI}'], 'PC-7299': ['{B7N3-I5CN69IE-8175YKGA}', '{N7S4-Z3FI88UP-5612WWVF}', '{K5A0-P4DP28JW-7624KQDJ}', '{D6M4-B2MP27YN-0399GFEY}', '{E6V2-X6FP07UV-0493UREB}', '{K8M3-O4CI93EW-2380RXIO}', '{U6Z9-A0LR86TQ-6258PUFG}', '{I5R7-T7QL64JX-1137PVYM}', '{K6Y9-H3KT25RW-8964GIHW}', '{N3W2-F4IM66TR-3782BWBJ}', '{U4B2-Q0VY91SL-8890VEKV}', '{U8Q5-M9MD00UD-1521DXJF}', '{L6A9-Y8YM23BU-7994OJGB}', '{K9Y4-D5QQ94XN-2749TWAY}', '{I4J5-U7WN83JX-2868UOIF}', '{D2B6-B2QH36ZZ-6244TOWY}', '{L2C2-Q7TH64DK-1236LHSJ}', '{P1V5-H6PI74TU-9392SGXK}', '{N1U7-R5AI22QH-7708QVYJ}', '{E5C1-K1JS59IM-4330GVBY}', '{Q0G9-G7TQ49CM-1758CQHB}', '{U5F2-H0IO39JU-0487ILAF}', '{X9D3-K1FQ58PG-6957AZRO}', '{S1F5-A2CN78YT-6346TGAJ}'], 'PC-5297': ['{T0X9-F7AH12ZX-8971JBWT}', '{V9T1-Y9IE62YL-4487JQAX}', '{A2C1-Y7ZQ12AR-7546AEYX}', '{W3H7-D7GL04SR-4664FXHT}', '{L5R6-T8NE71OP-9939CGGX}', '{H5C1-W4LA36YB-3544FCRL}', '{D8Z6-H5MS96YM-6889IQCK}', '{R5R0-D1KD36SI-8255OCTS}', '{W2U1-T1RV59CQ-6083QRRB}', '{D0O8-T4RZ28NZ-4450RTYJ}', '{U1R9-M1GB87DZ-2904HSUJ}', '{M2A5-O4DK96DG-9603EUDP}'], 'PC-6500': ['{B3Q8-R4TH83EN-0295MUXO}', '{R2L9-L4ER75JY-5795DRQP}'], 'PC-5956': ['{M1K9-L6IQ04FO-8569NAXH}', '{A6T6-R7UZ66GW-0058OCSS}'], 'PC-4013': ['{Z1S9-N0OF20RB-0745HDZD}', '{T3U0-P1WH72SN-3541WVHM}'], 'PC-5437': ['{M2F3-I7WP43DV-7660RAGY}', '{C7X3-F0VB21PX-3102UMMJ}'], 'PC-6910': ['{Y2Q1-R2UC76EQ-9163EPHW}', '{I2P6-E4DD60JB-1184CQFX}'], 'PC-1012': ['{X6H5-J5AM93NY-1789GZDI}', '{I9L2-J8PZ92IV-8657AHYH}'], 'PC-8822': ['{K6Y7-F2PL73CR-2705BTYI}', '{Q3O6-W2NN94EY-8523ILYL}', '{E9Q0-Y0OC48BF-4895XTCF}', '{V9L5-W8SV15ZQ-2979CBTC}', '{V7F4-W7PJ32XU-2042SNBV}', '{I7H7-I6VC37KQ-8704BCZA}', '{H4G9-S4OT82BW-5571WPJJ}', '{Y9L7-Q6QX98RV-6392SOEF}', '{D2Y3-H0PC88PZ-1611VZST}', '{T8K9-W9TM97WY-7880DTRU}', '{Z3Y4-I5SP01XP-3575RREY}', '{T5T7-H1BK67FK-2749GYTO}', '{A2P6-X9SZ13UK-4269KJUV}', '{E7V2-C8XW54PS-9372ALOM}', '{Q8K3-E2BR27WD-9115GNYK}', '{P2D0-V1YZ60RY-5768MXWN}', '{T5C6-B3OR39UG-6916LIJI}', '{R9H1-W9ON56EX-3666MEJH}', '{W4X8-W1CE88HW-2221LSYE}', '{A7T3-D5AC19VH-6672CXBQ}', '{Q7W5-A4WB18WT-1160VGAM}'], 'PC-4624': ['{T6R9-O7HI22LC-5988COVZ}', '{G9T6-M5QM78DF-4282BOUP}', '{J8B1-S3LN49GC-0432LLSY}', '{F5E1-L8JO91MN-5206BWBH}', '{L2R7-Z3SD34CX-9628WPZS}', '{Z4X0-F9AI39HA-7497FDLZ}', '{C8D0-Z7NH74CJ-0250EDPE}', '{G8X7-R7NE83AJ-2167RCLB}', '{D5S0-I7KZ77NL-7138NYNM}', '{E9T1-Z0QH29YQ-8925JQKV}', '{H3W7-G4EV09XS-0634PULG}', '{B6G8-S9IW00JO-4230CDED}', '{U3K4-R2OW88RD-5583DDYS}', '{W2G8-V3LA09JC-8585XSZK}', '{T8O3-J8MY46ZA-5007UZMN}', '{T8Y1-Z5AK12OR-1504APHK}', '{U2F8-S9EI55CH-2639IZTR}', '{L9C3-J1TC94NL-6907STET}', '{T7S7-S4AS38QN-4632RTEQ}', '{P1O9-M5BP02HU-1409OLJJ}', '{V0G0-U1YG28LK-8302LEXX}', '{I2I5-E0CE52WT-4535EHHE}', '{A1O8-P6NH16DP-0430OGSM}', '{N5P9-U8RB94NI-1837CJHT}', '{E2J4-T4QS59NE-3489QSCZ}', '{P4G2-Z5PZ54YL-4255QELW}', '{P4V9-Q0SG54OT-9585BIOC}', '{Q1B4-T1VJ45UK-5892GQFO}', '{A9F2-H9SQ67TM-7957VASO}', '{C2B9-Y4BH31NN-0246TKCT}'], 'PC-1240': ['{F4Y5-J3SF60FV-0762IILQ}', '{J0J2-C4TD56GX-3029EFPW}'], 'PC-7015': ['{G7C2-L1LP33AE-9618NTFN}', '{O9W1-O1JH80NR-2386LGSR}'], 'PC-8032': ['{V2C6-J3PM34YT-9206CNZH}', '{E0I2-G0RU27IF-0603AJDY}', '{G6D2-F4UQ35BO-7034NDZW}', '{W0T0-B2OI19AX-7921BIEC}'], 'PC-3118': ['{D7E4-M6BN11RS-4201KRTN}', '{W2U1-M0VV49TW-8204KBWZ}', '{D6L2-X2LH36FC-7115AJJP}', '{C5P2-X1NX36LH-7096MOKM}', '{A6F2-E8AM04EJ-7411GYIS}', '{R4T7-Y9MR36HW-7561MGRE}', '{O3B1-A1WC14TG-5631XQLL}', '{C0F0-U9BI87BV-1281AMLE}'], 'PC-7490': ['{X4J4-O2DE04LN-6069UNXT}', '{L3I4-J6GR69NR-2456ZYUK}', '{U5S2-D8FP32FW-9665QQVJ}', '{U8R2-K7SR75NK-2071FKRL}', '{A7F9-W9NB56UH-9353SVRH}', '{C3G7-E3EV34KD-3052DOYL}', '{N6A5-X7WE84NH-4013GJDA}', '{L3L3-I5YA22PJ-8178NBLQ}', '{V4X1-D9ND19QN-0812LTSS}', '{V0R7-F1CB78RC-9269JFYK}', '{Z2S7-X5NZ26IZ-3998PDBG}', '{F6S8-Q4PY46MV-4308SCSJ}', '{N8G0-X3EX77OT-9722RKUQ}', '{H6H9-E8MJ85AY-2654GFJX}', '{J8L8-F0IU93SK-7452OWRW}', '{C4L3-U7RB53KW-9967XJUC}', '{S5U2-S4PP87WG-9436QYBH}', '{S0F8-K6CE45CV-1640WTDJ}', '{J5P3-R5ZF75QV-9529OHFB}', '{X8U6-B8XD64US-8093PMSW}', '{Q6M7-O8DM89EX-0832USQW}', '{Z3O0-L0VQ60NM-6799YPOC}', '{K4I7-N3SP70EU-3502BJOH}', '{R1I5-E8AX74GE-4282HNLG}', '{A4W4-C7CO35YW-4623GLUA}', '{O0O9-D9ZY67HQ-4641AGLO}', '{G6K2-S9TZ87OZ-6567EMNS}', '{F1R7-A3TZ35ZB-7936CFMN}', '{F2D5-T1VQ25FR-5784KNFP}', '{T2G0-Q9PU00KB-6196VRBE}', '{A3R8-W5RA16ZJ-7262SGXX}'], 'PC-8873': ['{Y4M4-B1BK84QX-7850XDOI}', '{P6Z6-O3RM69GE-3891UMVH}', '{T8N4-W7UG54BM-0605LKVS}', '{N0Y7-J0TN27YH-4309PGCZ}', '{G5A7-E1GG54GO-3628OUBQ}', '{O3H0-I2NG93XV-1092QHPB}', '{K5V0-S0LJ17OH-9326SYYW}', '{L5E6-G1XB44WY-7493UZGL}', '{G6C3-A9BT23YY-9013VBYC}', '{F7R3-I3QW30SI-9829RAMF}', '{A2C5-N7ZD52HG-8943OSWF}', '{J5T9-Q2UV00RM-9486JDFU}', '{E0H5-I1MN87UJ-8668UEBP}'], 'PC-4189': ['{E8Z6-L0FE97XQ-8424WBRQ}', '{G3A3-W0SC39WL-8780GESO}', '{G6J2-G3TY93CY-3161ATID}', '{Y7O7-O4EL11GX-5794YFPH}', '{P3W8-Y9HT28WA-3567CYCG}', '{W6J9-D0TJ64XZ-7325SJRC}', '{A9G0-A8WA03OX-2049WVLG}', '{U4Y2-A3TV04IL-9588GNDB}', '{F0J4-U6OB62DI-8292XVAQ}', '{T4P4-L5KG05EC-0370ZFOO}', '{M6O9-I7ZF30ZB-9946RFUM}', '{H4L3-S1SC65XR-7303RVZG}', '{U9Q2-Z0WV96ME-7881AOGN}', '{P3Q4-J1KD79MH-9752OERN}', '{G6J9-W3KU27KB-2183JNBI}', '{I9B6-U9MX80HB-0730MPOM}', '{U3J9-L9NH09YC-4509CGAG}', '{I8Y7-R3HT56LJ-2924UUZW}'], 'PC-3336': ['{J8D1-Y4TX16YX-6141YFNG}', '{N7E0-L5WB44IX-1617RWTR}', '{G2G1-K0FH13UP-0091SDED}', '{X2Z4-G3JW74PZ-1974MLJZ}', '{C0I6-B0JY31HM-8925BGHF}', '{Z8G8-Q8ZL36BC-7180MDXN}', '{S7C4-D2YU69TI-0557DJYN}', '{M4R0-I2DY07CY-3078USNU}', '{S2A6-K6YR74HI-3264FJFM}', '{N0Z6-T0TP36II-1321EYKN}', '{E5J5-J1ZJ64TH-6333QAKU}', '{K2G7-D9RA20JC-2750UUAZ}', '{L6I6-P9FJ75SN-0800QQSD}', '{A5O3-V7VK20GH-8756OPYX}', '{H5P9-C3IC93VV-9489KLOR}', '{S2M8-O8SW33QN-5121UJLY}', '{H2O3-M1MG89MS-5089VYOQ}', '{T7M6-Q3EU44JV-4185TSAV}', '{C3J4-D3VB44SA-9018WHBF}', '{O1M7-D8YS73YT-5989GKUS}', '{Y8S2-E8CE83KQ-2160UDXR}', '{M7A3-K1SV01NY-8047FBKN}', '{R5F4-U0AR04FR-9955KEAO}', '{G7N6-O7RS08QZ-3429NRPP}', '{U7U3-Z4OF36II-2051FCFK}', '{O2Q2-M2JY51OZ-4672TDDT}', '{H2Z1-F3FW39ST-6169ODCZ}', '{J2E9-G7TG37ML-9975HBPP}', '{C0E9-U6YS82LW-7881MDYK}', '{H4S1-Y3AZ01NM-0615NRZP}', '{X6P8-A6FV79MA-6030WCGO}', '{E9U6-A3LK71LR-5265POPU}', '{E5Q9-C7TO51LP-4287YDOH}', '{I8K1-B3RZ76LQ-2340WNCE}'], 'PC-5749': ['{G0K6-E5TH97NO-0295BPTR}', '{A8O2-D0EO10BP-1970YQUU}', '{J5S9-W0UT35NW-3448BOFA}', '{B7Q0-K9ZT11SH-2351CXJH}', '{B4G9-N6XV10RX-3965RBSI}', '{Q1E9-T4TO99NR-2769FMVU}', '{O8Y4-K8ZR74XZ-2002KUAB}', '{J4T1-E8CH55IJ-9008OZVG}', '{S2A5-R3OL13PX-5372HXCC}', '{L6G6-G6JE12MY-0134TNKF}', '{D6I9-Z1YT65RM-9238MDLB}', '{F5Z3-I4ZX29UH-2356WWTG}'], 'PC-1667': ['{S9E0-I9TU63NA-9810KWLH}', '{G0J7-R0LC36YW-6325QYFL}'], 'PC-7866': ['{O2M9-M7AZ48CD-8197GBWM}', '{B3D8-C1OX06WS-0333HMJA}', '{P6J7-D2HG00NC-7752UZIC}', '{M6A1-T0AA36MW-7194EEAJ}', '{Q5D9-H8BS05IV-5242RULI}', '{D1R8-H4RL91AG-8462PMGE}', '{N1J7-B7IX12DQ-9868TRVE}', '{C3J8-Q2BS43MR-9645HFMA}', '{A9L3-B7SM45CO-3963HQQA}', '{N2Q9-X5PF46CK-5907OWWM}', '{R2Y4-T5RS36AG-2746RGOO}', '{Y5R5-F8VJ61YV-5359AGYK}', '{O8S9-C3EI28PS-8781CBKC}'], 'PC-8118': ['{B8I4-N6XQ44RM-7604MWKS}', '{S7P1-D9RO63UL-9509IRBI}', '{E8Y2-W9XJ47EX-7835BREG}', '{I8W3-A5ZX06BG-0081OYYD}', '{D0T6-G3HS33TP-9177CFRP}'], 'PC-1929': ['{R3Z9-U5YR87BS-2979BOUZ}', '{H7E5-Y7GF13TG-0879SIHO}', '{I2U4-F8UR02LV-5418XJIK}', '{P1M3-M8NR83DE-6861EHTV}', '{S6B0-Y3UU40PR-7863HWON}', '{N0L3-O3JG08IJ-5933XRBX}', '{S2E7-Z0WD76QB-8322RYKD}'], 'PC-7899': ['{W0Y4-M0TE51CP-5841GYLV}', '{I3Z3-N5KA98DI-1788WRLY}', '{S0P3-M1IA45IX-2366IASE}', '{G4L5-E3IT07PC-8105OFPE}', '{J9A9-A0MM45MR-2447DJZP}', '{H7Y7-F9PQ42GN-7360AXFY}', '{Y7G9-U6KF98YF-2474GXSO}', '{U2I9-T6FO35MS-9008ZHYB}', '{M6C2-Z2DA40WA-2921KBUX}', '{B0W1-J8UH19KH-0584STJX}', '{M2T2-G3QY44MS-1981JSDT}', '{I5L3-F6XU69WV-8561OFOO}', '{P6F5-M1OU29BM-6831REWI}', '{M2J1-L5PI54UD-1289JYKQ}', '{Y3U1-Y0HU18IY-0799QVXJ}', '{M7U7-J0YQ90BF-5286QYCB}', '{Q5K9-Z4FO45DB-4767EAME}', '{W0P0-T6BA52RP-1997QOAA}', '{H4R1-W8YV53VL-8395HVAE}', '{U6T7-Z2SP22GE-8159QNHU}', '{Q2H4-Z9UR36WQ-8795JKFW}', '{F5E9-M5HC60AD-4299REFZ}'], 'PC-6370': ['{Z4N9-P7UO37PR-8448JOEV}', '{C3G4-U2ON02HC-9088IHGJ}', '{X4S2-R2YC60OH-9191YYMD}', '{Y5B1-Z0TJ13OG-8339ZVPC}'], 'PC-6004': ['{N5S4-I5KS14YN-7402UEYN}', '{J3Z9-H5VV66BO-1491EEFT}', '{B8V0-E3HZ19JD-8392CBFO}', '{N6I2-I8TQ55WC-3073YCVT}', '{L7Q7-S2CG54QC-9550SGHT}', '{Z3U3-Q8UM82DR-6634VSTB}', '{A1K1-H1MA02LD-1952ZPLK}', '{R7T9-Z2TN70YQ-8346OZDL}', '{L1P9-O1QF84SA-0477ZFVU}', '{T7H8-S4AA64TR-6577XRIN}', '{S4Q7-J4IC52JU-6759KJJT}', '{X8H0-X7KW66NC-3520FRDV}', '{O0R3-E2XE40OJ-4737ILRS}', '{C6B8-J0TY91WH-6503TGXI}', '{C5Z5-J6DC33SR-9765MOYT}', '{E8I5-U3WI35DY-9971MHYX}', '{L2M9-C2BM13CX-6691QVLU}', '{N3Y5-R2XB52KI-4171SMWD}', '{R6J0-O3VX87TQ-8824BEUN}', '{W6P5-M6BF56CF-8257KBQA}', '{V3R7-J9SM28LP-3736CDLI}', '{U7O6-Q3BX86WX-3319OHUX}', '{W0K5-R4WT26VY-0220WGKL}'], 'PC-7721': ['{F9J6-O8SH90AP-3828RBPC}', '{M0V7-Z7KC25ST-8194FDEW}', '{J4W5-G2LJ68VD-9760LUEE}', '{L1C8-U9BC23LX-8367HOMB}', '{Z5T3-M3BL86CL-9610OQZS}', '{W3T1-Y8JZ59WI-1209CXAL}', '{D3B4-P1FY96DJ-9957FXZJ}', '{Y2U3-A8UN04RR-2407RLVE}', '{A2L7-J4VL48MO-4675JOXX}', '{A9Q3-Z8NK94FC-1244TDLQ}', '{S0T7-Y4HD50MV-0117FLCG}', '{E6Z7-I1WB21BX-0142CAFH}', '{Z8X3-E1AC59IQ-8206JSAN}', '{I3E7-Z8KN26QC-0847RGRG}', '{Q0Z2-I6OI75TP-7558HMVN}', '{F4V9-G8SI06BL-7491VWXJ}'], 'PC-6008': ['{X7R2-P9IY46JA-6323MIER}', '{O9P9-D2RC45WX-8037KANI}', '{R3A2-J0HD21VJ-6996NZSE}'], 'PC-8168': ['{X8C6-D3KM76AZ-5677RDHY}', '{W4H4-U4CK03SV-8067HDMH}', '{U5X7-C0KS94CZ-6727LSMV}', '{N1Y4-S2LQ07AJ-7369GNEP}', '{T4M9-O6UQ54ID-3423ZZJP}', '{O0P3-L1HZ24UZ-3976VRIE}', '{M3L3-D0RQ99HO-6544BJVI}', '{Z0R7-O0XU87VC-3396MBQZ}', '{N3H5-P0CS44IT-5239PSCC}', '{B2Y2-Q3IA77LT-3258KQLJ}', '{W8F8-H1WD32GU-3329VKLB}', '{T7M3-U3AU84XO-8840KKBH}', '{Y4N6-I6LP62TS-7538HZSK}', '{Z9Q4-N3ZS22EG-5157AIJL}', '{P2D1-F6VO84LZ-8601DMDI}', '{D9V5-I7MN06KH-1041LFXA}', '{Q4S3-A1HN48AH-7197IYHD}', '{W3C1-M5GC72KD-2193YRAX}', '{T0Q2-K5XL84HS-6253HYLF}', '{A9V3-H7WB28LC-7117WFPY}', '{I8V9-Q4PI99SR-1988RPFD}', '{Y0Q3-H2RL23WJ-1633AZXA}', '{A7Y0-E4IC96FL-3364SDJM}'], 'PC-6338': ['{U3L5-D8ZD99IK-6715VWBI}', '{U3N9-H6ZY48PI-5731IMSA}', '{D3V4-Y6WA77MF-5872PBQM}', '{A0T5-D7TE55QI-3051WMRL}', '{E3W5-D7ZB25AG-2066REVF}', '{I7A8-V4CJ18EV-2775ILKM}', '{N6V9-H3QD41EX-9341ZADN}', '{Q7E9-B7EM54PA-3207QMHG}', '{Q8J9-R1QB38TG-9161UWAN}', '{K3Y2-N3VA05NE-2976RZTY}', '{S1S9-C7SI02TJ-5233PCJD}', '{P8X0-D7BY40CA-9847GCRU}', '{B3F9-P9ZG77XT-9211LGBH}'], 'PC-8466': ['{T1U7-I7JB26LP-7140HNMC}', '{X2S8-Z8AL82MV-2528VPZK}', '{B1T4-L6CS97KB-3112AOVN}'], 'PC-2242': ['{I8F0-C3BK67QZ-4204RVOH}', '{Q5M0-V3JY15ZT-4508SYSM}', '{A4Q2-C2IP35WF-4784ZSMA}', '{R0X5-W3VX06TQ-2417OUKA}'], 'PC-2206': ['{P1Y5-D4KN97TR-1481CXBP}', '{F1J2-Q3DT30UW-3457WSZA}', '{C3V7-V1AV42BD-6675HAWB}'], 'PC-6640': ['{J3J9-Q5YU11PY-8596QJCE}', '{J3W9-C5TV87JO-1801VOTQ}', '{W5A9-G9KG96KQ-1538UXAX}', '{V1U6-G9FK52WQ-5876CDUV}', '{F6U7-X7CJ01SZ-7017BBRP}', '{X5U1-Y9OZ70EP-2263FKRS}', '{E1X1-J9AB92WH-0853JHPN}', '{V6I6-Z0XJ47KN-5834ASBB}', '{Q6C3-V9DH75PI-6968FIGH}', '{X1R9-X3UN41YF-0421QQZS}', '{T5N5-V9OL41YV-0577SGCO}', '{H9J5-O7WD91MB-9915UDWU}', '{D3U5-D4KW71CL-2997MXDC}', '{G2X9-Y0YM13WP-2966WCVG}', '{A1S6-V2FJ78VF-2320HRCU}', '{N2M9-I6IP31DK-4359SUFN}', '{D4E2-F4LI14QJ-6008BMNN}', '{R4D1-Y3PG79SG-5877HJXY}', '{Q3U1-Z6FZ69SE-0247WFKZ}', '{V6N7-O1GE47GB-1931XDJT}', '{N0T3-K7ST03SR-9859INDU}', '{H6Y3-G7DQ38PK-3526JDOH}', '{Q3N3-K3CH32FD-3971PNFE}', '{A8Z4-I1CU74GE-4272QXKV}', '{H2G2-C8WH99RC-1377HGBJ}'], 'PC-9352': ['{Z7B2-Z8AS75YE-4485NAFE}', '{D8Q7-C0RU46YI-7391WHNI}', '{N4G0-D6NC43RD-2373QXNK}', '{R3P9-N8JS44BS-7489ITZI}', '{M5D5-C7VT73RH-5291SHQE}', '{Y3C1-H5OM86EM-8856KQEP}', '{I4P6-G2QR07FV-1265KVPY}', '{Z6S3-G4CY91SD-2640YDBD}', '{D0I4-X2AA96EP-7975CJJU}', '{O3P5-R2KU20TC-8591ZSOR}', '{R2K2-T8JX49QA-9094IAZP}', '{L1I5-E3FH32LJ-2647AMMW}', '{Y3A2-P3HS44WT-5663GEWR}', '{L8Y5-K7FZ29RI-6396ATHX}', '{S7N7-U8MY13QD-5617ADSY}', '{E7H9-V3RC92OG-3692TICG}', '{U0X9-R2YS84EU-8393FIQK}', '{E7C0-U2ZG61ZB-4735FMUE}', '{Z8S2-I0NF68KH-2306KEKZ}', '{Q1A1-I8PD83AI-1903JLUE}', '{F2R3-U2CA84XR-0402OBWA}', '{A5R0-P3GQ06XF-3698DBEK}', '{S7C4-H4MQ37PU-4077XYHE}', '{D7G8-J3VT40FJ-4541CGXF}', '{K2X5-S6QR11PM-7474BGTP}', '{J3L1-I8KD08PF-8782AZFQ}', '{F7E0-L9LL65YU-8256ZQTY}', '{E9E6-Q8NT62TS-1817LBUU}'], 'PC-7686': ['{U6I8-G7ZD56BL-6707NSCA}', '{E7H9-K2LH84HB-3558ZERK}', '{L7J1-P0TY42VN-2164CMYN}', '{F5U4-R1IU65TX-9935AKCU}', '{L2D8-Y3JC57JX-1470LDHD}', '{A7S1-X2UY20EL-4150PYUF}', '{O3C0-O4EV44KB-8118QJBX}', '{T9T0-A5VA06FY-7266DYXL}', '{L0G5-P6XK26JG-8202KUPF}', '{A5D3-O4BY91WK-4261NQDB}', '{O6O0-K3VG66AF-9590PPRI}', '{F1Y0-W9PF73GD-4566VAHJ}', '{Q0B5-U6IH11YD-0468VSTZ}', '{O2D5-E3RL75CQ-2798KMSI}', '{S1X5-W4KO16KI-8293ONYO}', '{P1Y8-B7DJ90CJ-1269ZIWT}', '{V7M7-W8KU16EJ-5992OTCL}'], 'PC-8025': ['{R7Y5-U1VO87KN-5237KNZT}', '{V1F5-W0PW36AS-0915SKSY}', '{N9M8-R6TP11GC-5718CEVV}', '{D3R8-Q9QU27KE-9515FCKU}', '{G2U3-U1RP44PL-1758HBFQ}', '{S3Y6-Y3JE52ZL-4921DPWF}', '{E2S6-F4TF35RT-9881ZRYU}', '{K0L6-Z9DG87CV-1130HNKB}', '{I7B8-L9UH87IZ-1263PPSZ}', '{E4U2-M1RV74GS-0113GXCH}', '{X1Q6-K1ZC86OK-3585ZFTQ}', '{P0Q6-I0QS43IP-2017VALE}', '{X7G7-J4IJ38AT-4363GQFC}', '{T0F0-A6HN90SE-4815HTEO}', '{O9S6-Q3NK73PG-9160SIAQ}', '{J6W9-S8ZK69OD-9499WETZ}', '{C9S1-Y8GB42VD-2923GATU}', '{W0N3-G4WS99LY-5940VPQI}', '{V2J8-Y2UN11ZK-7072QDBN}', '{Y4Q2-M6RJ79UP-0476YUHI}', '{V3V4-N5WQ42HV-0917YIWE}', '{T7N1-M7JP80SH-4440IDNS}', '{A5X0-J6JH89IM-4180VYAP}', '{P4O8-R9SZ11TH-2845CLPU}', '{V1U5-A5PC85GH-8609KFMG}', '{M8V1-Q2CW71SP-1629HZBQ}', '{M0L5-K7LJ54LF-9049FDJN}', '{F7W5-G9QU04OO-4706CHOD}', '{U2W3-N6QL86EO-0429DTFC}', '{H3Y7-O1MQ65AG-2612RCJF}', '{B3U0-S5LL26UI-8279WEGC}', '{T7Y6-Y1ZD14AP-0060ZZBD}', '{I3I7-L8LB18OK-5401SHBC}', '{P6I5-V4NG03TE-7016ORME}', '{T6N9-I4AR89WR-6516UJYQ}', '{P8P0-Q8IK28RQ-8409SGVE}', '{J7F4-P0JM06QC-7887IVYC}', '{G7C9-E4MQ65OF-8259TKPO}', '{I0S5-K9AA77VT-9969IUQD}', '{B4D0-G8ZW22EZ-7509ODVT}', '{X5Y4-S1BM60ZN-4243ATLS}', '{E7O0-C5LQ84MG-8782SITY}', '{O4K0-B4US70BG-6304JTGI}', '{X0F9-C2EG17KC-9227GJOE}', '{G9S9-N1TA47XN-6941IEKG}', '{E3A6-R4AX02XY-2784MLOM}', '{A8S0-O9TS17BW-9376MPEM}', '{T4M8-J5TP29JB-8269HWPT}', '{S8B5-O7QG69UM-8925OWAE}', '{R6T2-J0SU79JQ-9789LSPQ}', '{W5N8-T6QJ83WA-1323GFVN}', '{L0G5-H1UZ39ET-3256IMCX}', '{G0B6-T2TE33SL-5805PCKJ}', '{O4A1-I2HU04QG-4699SOJH}', '{D5D6-X0PP16MZ-0866ZRKX}', '{H2N3-N6JD40NH-6450YEPJ}', '{J6Z6-A5JO56EP-7631COMG}', '{X1P4-Z5CF17PK-9174KEJX}', '{Q2Z6-X8SY52ZN-6543TQDW}', '{O8S4-K8YQ69DK-6093GVVQ}', '{F9J7-Y8ZN21EV-4298RDHQ}', '{Y4F7-Z4YO53VZ-5349BTHC}'], 'PC-8385': ['{H4T9-A1VJ91FG-6487BAUW}', '{T9S7-E4OW95EQ-5729UCUP}', '{C5X0-M5RM77NR-6130ULQX}', '{N5A3-Z2LQ64UK-7509GEKY}', '{P4J5-L3GN78IF-6471NLAA}', '{M9D5-K1OW41IZ-8095UMSD}', '{X5A6-B1MY74EV-8158JROL}', '{T9I8-B5NK43FG-3051AGDF}', '{D7L2-Y8EP67WS-9954NLSD}', '{Q6V4-W8AM95DS-2022NFRD}', '{X9G1-M9ET82QY-6998HOBK}', '{T5H2-N3QR56QU-7470VNWN}', '{M1P1-D9EU00FJ-3974GVTT}', '{R1T1-Z4BN51GL-7351BEXF}', '{Q8Z8-W2KG57WH-5222MQTW}', '{Y5R9-C5SL62IL-2903EILE}', '{U9D3-R4IZ86BN-4160PFQG}', '{F2W0-N1SX03PH-9063NKOS}', '{H0H6-S3CG96QO-5092PLTP}', '{G7S8-E5ZC26CI-5162OVLY}', '{Y7K0-M5SR55JK-4240UAIB}', '{T2J8-F0MU35IL-1795ZPOI}', '{W9B2-V9MU69EI-0229BRFO}', '{B2P1-H4CG75VB-3631TFUC}', '{E7M2-G0QL55IW-7008MKYF}', '{I4S7-L2CJ12ZU-0742IUUL}', '{E2T4-B8FF00SR-0901XXMJ}', '{P2V0-B3JV59SJ-1425GLYK}', '{M3K6-P8VO86IM-1656SOOW}', '{J0S0-S7QJ51UM-2194MXME}', '{W6K5-F8EY73AQ-7297AHHE}', '{Z6C0-I1FH81VW-9531RRMK}', '{F3K9-V2NP02MZ-1081SFRD}', '{D2F7-Y5EW79SA-2068WABB}', '{C6D2-D1CD03KC-1166FNRT}', '{F5E6-J1DG50YB-6686HNFW}', '{D0M5-N5WD09HP-7956PEZQ}', '{M5X6-J6UV45LH-3531CWBP}', '{P1M9-U0KI26XZ-8017BFYU}', '{J8G6-V2OR93CW-5069WOMQ}', '{P6G2-W3HB86MF-4977VGCR}', '{Q8T3-T3MK29XR-4018UNBP}', '{V3P2-T0UW43BU-2280TVPZ}', '{O4V6-N9FQ04NF-3957CWGO}', '{T3Z5-J4TS13BI-4765KIUW}', '{P3G6-V1QG22AF-3805IAEB}', '{O7X5-N8TA57DG-3482EBEK}', '{U1N6-O7HI46WU-2990DZSF}', '{N4D5-V3DB89WM-3385KTKZ}', '{U9Z1-F1YU31WR-3082FZYL}', '{G9E2-E5RE85DL-6968PJJZ}', '{M8B5-L6AR26SD-1798QHFI}', '{K1W1-Y9QO18OB-9167DLNT}'], 'PC-7416': ['{P4C0-T4BM87QB-3449PLUA}', '{K6H6-D4MZ63KY-0018OLOE}', '{M2D0-A8BB10MT-4954DYPM}', '{P9S8-H0WM33MT-4468HEHC}', '{R3Y6-H0HM98QM-8733DVHF}', '{I0E0-L3TF83DQ-3365FDKM}', '{K1Z3-C4OL92IO-0143UDMR}', '{U4U0-A8AA36WF-5127UIVG}', '{S6W4-L9XV14JZ-6839ATBZ}', '{J3K4-X3AF09QX-5199DZQH}', '{G7Q2-Q8EC98GU-2861CEPX}', '{V6X6-Y4MZ56QL-6605ZQQR}', '{T2D8-E8VZ19QW-2973QCRZ}', '{E7G0-T1EX71WS-8489JOJL}', '{W8W6-I5AI84FP-7056TRCD}', '{V7K0-S2MW01IS-3385ZSLR}'], 'PC-2600': ['{C1M2-C2XV71PB-8600MUNU}', '{R7Q4-F4CN81DS-1230VFOY}', '{Q5O7-X5AU41JZ-4131SSLF}', '{R7O2-E9DR16ES-2974XEDH}', '{J9X4-Q4XN82ML-5045LYXL}', '{N7I5-D4IG60XK-2035RUGF}', '{R1Z1-Z5JF67OK-6914WSHA}'], 'PC-6499': ['{U5S9-T3HA80UX-4160GFWC}', '{U1A4-J5MI51SR-2382TZKP}', '{X6G7-E2DR50JW-2780TJPT}', '{A1X3-P0UR95YD-3740PRJU}', '{L1D8-T0GM89BX-2988AQSL}', '{L5F4-M6OW82RO-3007XUDF}', '{P2Q6-H4DN44WW-9053PJNE}', '{M8U7-I2AC56CK-9417GVDY}'], 'PC-0766': ['{E9W5-L8HB85RJ-1921SJPX}', '{M7O3-H1UQ35CD-5250OCNR}', '{Z8F2-I1PZ57JB-3050SBLH}', '{K0M4-V8PH73RD-7999WXWZ}'], 'PC-4345': ['{N5M2-P7JX12FR-7818MOFF}', '{O2Q2-P4HA21SU-2245FIWI}', '{T4I8-O2LH60CO-6520BFHJ}', '{V4H6-L9IL41GM-0105GKPJ}', '{J2G9-Y8XO98BN-6207GSSD}', '{Y4S2-O5MW81PW-9876JHUW}', '{Y5F8-G6XV11HM-5537UYLS}', '{G7T7-U6YR47DP-1650MTLG}', '{J3Y8-K9FG44IQ-0860BQRH}', '{T8Y6-N0VR69UT-9397SYJH}', '{J5M0-K4QR43CQ-1982WFJW}', '{T4Y7-X0GV16BF-0304MCEH}', '{N7H3-K5VS49KH-9707XLEW}', '{D5E1-P2NK26SF-0509BTZT}', '{U6O2-S7HY31SK-3742VENB}', '{O5Y4-U4AQ02BC-7648XHZC}', '{T5P4-F2KV94XS-2078SKZV}', '{G5U1-E8NE85PR-8152QTEY}', '{C2M3-M4VV18RF-9738YTXL}', '{K2F6-C6ML85CL-8140CNOH}', '{F7C1-O9SQ02YQ-1782DFUE}', '{O3J9-I2HY26EB-2434ZEMW}'], 'PC-3978': ['{K5D9-L5WR83VU-8697MTBO}', '{K7S5-H6UZ81YW-1996SEPV}', '{N2T4-O2UM07AT-3218ZJKN}', '{R0M0-K6DV43UB-2460GIXT}', '{V3N0-T5JU98SV-1414RCSO}', '{B8T2-R4DT72YZ-7622ELEE}'], 'PC-2822': ['{E1F9-R6AJ57FQ-3746LWBX}', '{Y7P7-E6KS67MT-0042GMHG}', '{V7V3-Q5OO79QF-3843ULVB}', '{L5M7-K4PW00JE-6128MYVE}', '{Q0O3-J4JB93OQ-3676QUBF}', '{B6N7-K9RV52BN-0202XVVU}', '{S8I8-T1HU27VF-0092GLPY}', '{F8Z8-H3ZC90CP-8206KPMO}', '{A2E3-N5TH50UL-9965PSNA}', '{V2B0-I9TI72OG-1514TRET}', '{K0D7-U0NN08JB-6219GWYL}', '{V1O1-H7JM51OU-7188KCJI}', '{I9K2-N1IP55KK-1376RKXO}', '{A8S8-K4MV98CH-4604QVUP}', '{L8T9-Z0ZV07CJ-5470EAPP}', '{S5M4-F7DH38WT-0396EHGX}', '{R7G4-U7KV30GT-5977RPVS}', '{K3V9-F8EW64SS-3124KZWY}', '{B0K5-F7YH75ED-0828DAFZ}', '{D4W6-Q2GZ16NU-2197XILL}', '{L9K6-I6RC57IZ-4551LHAC}'], 'PC-4126': ['{B0G5-P2XR80RE-6009PRBI}', '{S3A7-O7EP60NA-9986PZVN}', '{D1V2-A3YL76WV-6382SWTS}', '{T4N1-Z7JK63VH-9662LESJ}', '{Z6G2-B5JQ45FF-7956IXXL}', '{B6N2-C3PE25KW-6798VSPY}', '{U8N5-E2ND34VD-1747CQPT}', '{M8O5-S5CL03HT-0106HOYL}', '{K6A0-P3BD43YP-5716VLNN}', '{P9I7-I9MU11GA-1881JUVB}', '{Y9W9-W0MJ85EH-0350BJBM}', '{X3D3-P5FZ79NJ-3570SUDK}', '{C8F1-D0ZE24IK-3354OOEN}', '{A1A7-H1ZN85UJ-4537GVSX}', '{U3Q0-R0AQ20SX-1202JITP}'], 'PC-0168': ['{Q4D5-W4HH44UC-5188LWZK}', '{G7V0-S4TP95SA-9203AOGR}'], 'PC-2320': ['{B4U7-K4DB84LM-2657VBFY}', '{K2E1-W7VG04OA-3686THSV}'], 'PC-5439': ['{H2N5-X1QK85TW-4800RFFG}', '{S4B7-R6UW34WW-9244WTVD}'], 'PC-7235': ['{P6B3-G4RP59TS-5233ZZFI}', '{T4X0-D6JH60ZL-8206DBRB}', '{I0X0-V8AR77MZ-4211YQMD}', '{Q8E9-E1IA94PY-2904SFSL}', '{T8X6-H9AZ08CM-1545TBAI}', '{G3U1-E0WZ07GG-5500LXBD}', '{E5E2-O2QP60FN-6383XQBK}', '{U7T6-B4CH62IP-8780VCJU}', '{T5E4-B5QX22UM-9479WXHA}', '{Q1P9-D1SL30JR-6478AKTX}', '{J4Q5-H8NG76BD-1877RXEV}', '{M3W2-Z8DA37WO-4034HNJA}', '{V3G8-Z5LW95JF-7915RINN}', '{I3C2-C2YJ56RT-9538BYGY}', '{T3B9-W4TO69EG-3152VLPZ}', '{P2X1-E7LV86YU-3209SOCZ}', '{T0X3-T2UR52ZB-9621NIXD}', '{X1A0-L2MR42KD-7750JLBP}', '{T8I4-L5CT51HV-6087KJOO}', '{M5X8-Y0UM25OF-0682XFCC}', '{Y9I7-L2UX79AX-5822ZSGV}', '{O4I5-Y0DX81GK-1261TFHB}', '{T4C8-K2XF20NX-0053DNEW}', '{R4M2-E6JB54QH-0611RULI}', '{Z4U1-G7GI99GT-5668OCKR}', '{K3Q2-W4TO50KV-6743FNGP}', '{S8U6-Z7AL82SV-4224USQV}', '{W1R7-L6FV04LN-5636MLZL}', '{L5Y5-S1YK38ZN-3234SVKS}', '{W4K8-Y4LP44EJ-8971VEFC}', '{H2Z3-J2YG05VY-2563SWUT}'], 'PC-2226': ['{L2L1-Y3CC03EE-4739DMKJ}', '{B3I3-N7WL96RV-0190VIKR}'], 'PC-7872': ['{U0G0-S0AJ24VA-3275FAQE}', '{H5Z4-E5QK79UL-1217CDKQ}'], 'PC-3342': ['{W6Q2-E1GT86PB-8883VPZK}', '{B4F3-P1NP80VC-0741HURN}', '{B0N8-I9NR12YL-7883PYXL}', '{M0U9-D7HN42LI-0847NHSX}', '{R2S9-L2UA62AB-9468UVND}', '{H9Q5-C9TI71OJ-2495UBMC}', '{A4R0-T9HQ22RH-2043LUEJ}', '{R7T3-B5HD66RW-7404YOCU}', '{U1P7-H5UG98AB-5126LAAX}', '{J5U5-R7RV72YB-6148OQBG}', '{K4U6-I1OR98WV-1069LCSK}'], 'PC-1649': ['{Q9U7-O9XJ00DB-2679ITNG}', '{S8C2-U0CE64XA-6247NRRY}'], 'PC-5261': ['{V4U3-D4VJ35QD-4934PHRF}', '{U6F3-Y9GL42VS-0896XXBS}', '{N6Y0-P5RQ52CA-8125HYCG}', '{C9I6-R1PV40SB-1791XURI}', '{J1G6-N6BT43NM-1774FXOQ}', '{W2P0-Z5JK76WZ-5202PAAF}'], 'PC-7127': ['{X0C4-S3RJ20AY-4832PPRI}', '{D0R9-X2PJ48SQ-5614XBEO}', '{O5C0-P4KQ65VP-6976NXGH}', '{C6U3-C6SA62WN-5316DDVD}'], 'PC-2666': ['{W5N5-Z4PY41FL-6472XJTG}', '{D5Q3-X4NH51EM-6922FBUL}', '{T9P5-O0LC78LE-5007KBVC}', '{A4Q0-J8GZ52QH-6234CZWP}', '{O0X0-B7YF02PJ-1540IUDK}'], 'PC-7426': ['{R5I6-T9JA21LY-6937AQVH}', '{X6N1-A6AP45NT-4989YKOW}', '{H8X6-Y2ZI00EL-6983QOVT}', '{Q8M0-Z7AQ14VE-7255VDEX}', '{W3F8-P7WP64TT-6298PDJX}', '{I4G3-X7OI32QI-0233CIIU}', '{P2U1-T4LA95XP-9336NTPM}', '{O8Z8-A6NX17FX-7910VRBV}', '{C9J2-Z7HL58NP-2272HMNW}', '{P0A7-B1LW57OF-9857CXNP}', '{L3X5-C6MU83MU-2871YGET}', '{D5T3-B7DF32TL-4504BVOK}', '{M1D1-I5EE93FR-4925JAPA}', '{L3Y8-A7QY74SX-1915AOTP}', '{G1T8-R3AW51UY-5415KVTL}', '{E6S5-G0BH50VC-5815AMKR}', '{O1D6-Y0DN82KO-6079ZNBZ}', '{A7Q0-M7PU57AP-9049WESB}', '{S9D2-W5BH59RA-4007FLKW}', '{I8F6-F3ED20DM-1551VNGT}', '{Z6Y9-K5SR02PV-3123SEES}', '{Y9L0-I5OO54VD-0492FYPC}', '{O3K0-A5FS39EY-8388UKEK}', '{V2D0-Y4NZ89CF-0390DFOZ}', '{S5T8-D0PT87GV-1283EFXI}', '{Z7E4-X5GY32JK-3520CQSR}', '{Y2Q3-O8SU56MK-6588RPIO}', '{S3Y8-W5JJ43UK-8650XZNB}', '{S4J8-A9WH42WR-0852RMCK}', '{Q0Q5-X7KH45JH-7799MTYA}', '{X9R6-T2YQ44SC-6203XSSH}', '{X2V2-F9AG82LE-5451UTKY}', '{U9P7-T2FT75QY-2693QCCP}', '{H1Y3-O9KB40RN-9485RYKE}', '{S7Q8-N5ZJ89PL-3708YWPL}', '{R7W2-R3DT34KX-3282CWMP}', '{D5B1-J8ZD17LK-4374SLUR}', '{G3V1-Y0XE77EN-5031DFGW}', '{O4Z6-B3MS36XK-4095UWMB}', '{C2Z4-U5YB05PA-7024BZTX}', '{V2F1-W4VG81OI-1538TSRA}', '{S3Y6-G4EA31AW-4125BDKE}'], 'PC-0557': ['{U2W6-X6VO06GF-7485BLCM}', '{V7A0-J1FR21BL-7032KBMK}', '{M3D3-Z2ST49CQ-9946WQAP}', '{A7X3-G3AO34MC-5888QYWS}', '{R7T1-Y8AH37QZ-5619SGTV}', '{C6J1-P5OZ85XM-8194HSRB}', '{E6H4-W9NK11XD-8710BEFJ}', '{H7R0-H3FA65QT-4085RXSI}', '{P2G9-T5GR95CD-8935HHZT}', '{Y2U7-Y6BQ78DC-7153TNMY}', '{A6H2-H4QU80FG-6730XVBZ}', '{Q6B4-Q7DR41PX-9499PKHG}', '{A7T9-Z6ZG98LL-9513KWCW}', '{I8N1-R0LS68ON-8491JXAU}', '{D1B8-K8DF58LK-6389IQHA}', '{E8H3-X9YN09ZD-0855FLBR}', '{B3S8-V5GM60NF-5105CUQE}', '{O1J7-S2EE20NI-1300ICRL}', '{Y1G0-P0US71OY-6707WFJS}', '{S9J1-Q1FP50YE-0089YFPY}'], 'PC-2626': ['{P3O2-S0ZA20CB-6170MKXI}', '{L6R8-S9DS34AE-5827SUFI}', '{A8X9-G2FQ76OW-5920JCTE}', '{W0D3-C5VY79YJ-8597FCNZ}'], 'PC-3537': ['{H7L4-Q2KG38AE-9413YYKV}', '{A2V3-P6LD78MP-9050VOIH}', '{A3X3-X2AH31KS-8362WCOO}', '{Q1W9-R2NR87BK-5450CRBQ}', '{D4B8-W7EB44CP-6301MFJJ}', '{R9A8-O4YA60QA-1891GSVY}'], 'PC-1392': ['{B7T1-L7YZ87IR-2229LNKV}', '{E3Z9-D8MS11GM-5041YYBL}', '{N3R5-A7TW84VT-6846TZKZ}', '{E5C0-L6ZM74NG-9070HMVP}', '{V9H2-A6UQ00TF-4404QPWI}', '{M9I3-G2EK31WR-7087ZAHE}', '{J4S1-S5NR04UH-9583XRYX}', '{M7C5-O9OS46SH-9062JUNL}', '{F6R1-U0AP80LH-0434GNMG}', '{J6F2-K2EC40FB-8404ISOA}', '{R2Y0-F7BA59MP-1203VSUC}', '{H3I6-J0FT45FH-6685NWVV}', '{A2H6-Y9BT50KG-5039ZITQ}', '{N5K1-Y3MM68WE-0794LFUF}', '{T0B1-T3UF22LW-7608VQPQ}', '{O5U0-Z6VW34BW-8708TOYS}', '{Q2V8-H5IG21XZ-6141EGMC}', '{K4S4-L8VM55PC-3680OMJR}', '{B5B1-F1VK58PI-6635SVDO}', '{L9I4-F4ZQ49WJ-2480IKDF}', '{Z2P6-L7BC17RO-8678QWEG}', '{C3C8-C3DW43QQ-5997STQD}', '{T5P0-C0RG72VI-1219QZDK}', '{E5Q8-F6SV67CY-8121BVBX}', '{D1J9-Y7PX86UV-6511BQXQ}', '{V0T2-T0MA25EQ-0628WSLJ}', '{R6D7-D4IK43HE-0927XNCE}', '{E1P3-B1KK13HA-8113ZRYI}', '{A3F6-W2UC58XX-5338UXHZ}', '{B7U4-K8IL86EQ-2544SMHT}', '{V5E8-C0MS96DN-4703FJYR}', '{M8B6-E1TV30TF-2360ZLTO}', '{R0B2-S3SC16CB-6211NIIB}', '{H7P5-G0MR17ZE-0543YOUZ}', '{K5B2-F5MN09UI-8068NBLO}', '{T8P6-J3KS98FQ-4058XDQK}', '{D4A8-V0WM21TY-6000GVKT}', '{P7L5-M8DC63KB-5309GLST}', '{S3A6-M9BT19QM-6575IKFW}', '{J3B1-W2BF49EB-5474MIWP}', '{F1E5-O3FV83AL-9000UOBK}', '{A6S5-F1MM57KQ-9282LQKJ}', '{T5U1-A8SD13UJ-0475GIBN}', '{G8W8-R5IX62EU-1712UZFU}', '{F6M1-N5CZ99EH-8977UHTQ}', '{P4C3-Z0QN12EC-4168KKHL}', '{B6J3-J5KT79KC-0094PVJD}', '{S5T1-Q4OX66QW-0779YTXK}', '{A2W5-G9RU24IM-1868FOGL}'], 'PC-1031': ['{I4U5-L1SV56AP-4859ZCLK}', '{G0U1-H9PJ93OP-6392GBGF}', '{T1C1-C0VJ91XL-5593HPXW}', '{Q0Y3-B6FX40HT-7904QICG}', '{N5E8-F9ZS52YP-0338THIX}', '{C1S7-L3LV46BO-8026AOZS}', '{F0B1-H2KO51GW-9777TFEZ}', '{P9V1-F9NW67FM-7639VSTW}', '{X3E4-A0FJ77UQ-5820NQXL}', '{D0R7-P5TT12HN-3805OOQR}', '{M1V1-U6QY04DI-1577NZIS}', '{C5N9-O0LG91GJ-6813JGAB}', '{X5A2-I8SY87PF-5994ZDHA}', '{O8T2-I1LM09YW-6251HAJA}', '{U6N1-O8LO28VR-3113OBNE}', '{S0K4-L4LA77MU-2560BLBM}'], 'PC-3982': ['{F2C1-H9UZ39VM-6623BGLT}', '{N3M2-P5WB10LY-0111XIWS}', '{R5V5-Z5BA45OY-6662FTXM}', '{N7R7-J7EK78HB-0553MTKB}', '{N6F0-R2SV92GA-7157SJRU}', '{D4Y7-F6RW27TS-8591KATG}', '{W5Q3-R5GB80CI-2992IEJJ}', '{Z5I3-R3DN07KU-3772JSBI}', '{V5O1-M0MD89MQ-6627SVYD}', '{V8L7-Y5FQ03BD-2891ZFKG}', '{S3M9-X9QD50ZE-9399GVUZ}', '{Q0V1-L9MR34BZ-5075OTTM}', '{O1Y9-M4UN22XC-6320WEEH}', '{O0N9-B4FP70XL-1702UDGD}', '{V8B9-M8YM35SP-2600EJZJ}', '{A6X1-P0LM77FG-5270HBUI}', '{E2F8-F6IY71OA-4478ZMIV}', '{V7G7-B3DJ29FW-2162PSGV}', '{Q2U4-I9FS88ZU-5158XDDY}'], 'PC-2683': ['{K5P1-Y6HZ87QS-5849WSYS}', '{P4N2-M6RQ31CW-4212PATG}', '{H1B6-X2LV32DD-6280NRJN}', '{D2X9-K3ZG10HV-4160OMMT}', '{D4V2-X8UR53BQ-9783WTPN}', '{V1Q6-E1DJ03XP-1867CESL}', '{Y1L5-S1GV76MX-7765ZRYL}', '{U0E6-P2AK00VY-1073XLVI}', '{X8M3-A2KR05CU-5196RNAU}', '{R8P1-M9ID25FT-7745WFAL}', '{Y4N0-U4WO95ZX-5338AFSJ}', '{R4L2-X8PX00HL-9285WZTZ}', '{S9M2-Y8SA40CO-9893PWXS}', '{N3D6-W5MR57SV-0634IDNH}', '{I7X0-F0HS24ZL-3670OTSN}', '{T0I6-H4ZA66JF-3718CVHU}', '{L9A1-R9AV90AU-9578VJHO}', '{N3J0-M0NC26SY-6612BONS}', '{W2G6-M8EV83OH-4850CXIE}', '{V2S0-I8US37AB-0007YKII}', '{W0D3-G2MO33SO-4958OQDJ}', '{N8W2-S8AW57UD-3263BWAF}', '{V7O4-Y9TY48SB-8836IENP}', '{M6P1-U3FF74HF-8619ENJD}', '{P9X9-J4KD14WF-8334YSKK}', '{M1S9-O4UO99VJ-3870RJNU}', '{F3O2-K9ZO24DJ-0435BNLG}', '{F1U5-O6EL41BT-8182IPFM}', '{E2E4-G1MP99SP-4486EETW}', '{P7W8-D6ZE77TG-6550RARK}', '{I4O3-G0CT59UA-2432QPKV}', '{M5E0-O3BP59KH-2736TOMP}', '{N7R0-M8MC64OW-1519ZCJX}', '{X3X8-Z2CA03ZP-7474UQNJ}', '{I1V0-J0IF57EQ-2366NMMU}', '{U8K9-D9SN34JY-3763DEDX}', '{V3E9-S3FB40TH-1545EPDX}', '{W7X6-T1RQ34PT-1373VMDO}', '{K4J5-U9FE68KF-8129NVFT}', '{C2H9-H4NJ21CJ-6169RHUP}', '{N1L5-T1ZH07QY-9964XTHL}', '{G3P8-W6JH92PR-5137CDZI}', '{D1Q4-N8SW50XU-5720VPSR}', '{N6N7-M9LO40WX-4541MJOV}', '{W2C2-O7SF85VH-0226QOPK}', '{J8E1-I0LS30VR-5553EQOD}'], 'PC-4767': ['{Y4Q2-A6MS31SB-2060FYKU}', '{A6O6-Q2ET91DS-9665WROP}', '{Z2O0-N0EJ08VA-2270EPYD}'], 'PC-1252': ['{O7D4-E1LN25FZ-3818EPVD}', '{C1X1-D0EF88QR-1758JOGN}', '{E4O1-L3BE94DX-1001DTCD}', '{L5Q1-D4SV50UP-0129QVJL}', '{F9L1-P2KM72NG-1206GHWJ}', '{F5G4-J9DY11ZZ-9704LYUX}', '{D9Q1-G6HM17KN-5288EDMB}', '{N0B0-I8BS77JZ-0616QDTW}', '{M1T5-D6LM92QZ-9436IFAV}', '{F7S5-L5KY48PY-0857TJCL}', '{T7J4-M2LK44MG-1722HHST}'], 'PC-1376': ['{A7I3-S8DG58GX-5023AGNA}', '{E5X8-V9MM17CZ-7476YFCK}', '{G7M6-P4WK57HC-8563PAZR}', '{F2K6-E9ND60WF-2082FLGJ}', '{N7S6-I6CS99KZ-5131TAEW}', '{J1B0-G6NG21UN-2293RLGL}', '{P7P6-Q9UB19KC-3265TOGU}', '{S6R9-D9IH33AL-5914LAEC}', '{X3E8-J2FM11RY-4800THRA}', '{Y1T3-P7UX75LE-4213ULVJ}', '{Q4K3-O9YD49YE-9466PWZT}', '{F7J9-R4BO99US-7290TGRZ}', '{V5T9-R6MR03JF-7954DJGY}', '{I9B5-S8YK85HY-1606TAFP}', '{F2Q7-W7RW27YV-4136HDXY}', '{F9O9-W3AH11NX-0737ZUVO}', '{M8R7-F5CD52CP-5038CGVD}'], 'PC-6639': ['{W2Y8-O5TX23UE-5273HELU}', '{I3Z6-M3BI35FW-1363IMBG}', '{O2F7-K9XI50ZS-0666SRST}', '{X5A9-W7TR82GK-9893JVRX}', '{Z7X7-V7FX89AF-0229RHOZ}', '{O5E0-K9BC99XH-6169NUEN}', '{P2W8-N2WU19VZ-4918OYQF}', '{Y2V4-J2FI51UZ-0467NIDW}', '{J5Q6-H3WX45MG-8581UDAG}'], 'PC-8111': ['{V8G1-H6TI24RW-6232GRGO}', '{T1S5-Z8ME93TX-9841BOJJ}'], 'PC-6671': ['{R4M3-D9QJ33HX-9936KMIZ}', '{C1Q9-N9CP51RB-0902XRZO}', '{A9R5-T3EE98BR-5789WXTJ}', '{Z7A4-N3GT86OU-2654KMUY}', '{A0C3-A9TV71KC-9720DXAD}', '{P4J1-A6QB21LJ-6543IAAD}', '{T9X6-M1XB39ZU-4982AYWV}', '{X7W7-X0VC12SG-6549XRZR}', '{E7V9-P9GX77AV-5011KGZY}', '{P9X5-D7EO59EZ-4687NGIZ}', '{E8R1-F8ZC20EC-5179UXQH}', '{Y0Z6-Y6XV48SE-2473MVSC}', '{M0E3-Y2ZK52IW-8850RVHO}', '{O5H0-A7IS30EG-6971YYHY}', '{L6T8-N1GY25PV-4590LJET}', '{O1J9-T7XQ20RL-5147PKCM}', '{G6J3-R0CO40MD-9719QCPG}', '{B8F1-O0MW77TU-2677HFGR}', '{Y9T2-X6LF48VQ-1890SFJL}', '{L5F5-D4UT14UI-4411EIEU}', '{E0X6-X3BQ35DN-0907SOLE}', '{X3T0-A3BN17TK-2682RYDE}', '{V9O6-Q0LG84DR-2629IOSR}', '{U2B3-U4DH85XR-2683YBRX}', '{W1Y8-H4NN40II-3726DUBD}', '{J3G2-O1NZ25OO-4650CSLT}', '{I8I8-J4NV67UO-7668AUVY}', '{V1W0-H5WD66RL-3232XBHM}', '{E3S6-A0GE30KP-0903ZUPP}'], 'PC-7745': ['{Q2U4-F4CQ91AW-0641EZLD}', '{G7K8-H8KH01FD-8993IYSV}', '{Y6J9-K6OJ37DQ-0499ZWGA}', '{L6G6-N3FF78FI-5982NLKG}', '{W2R9-M1OC92EZ-2766JMEQ}', '{M2J9-Y1WP02IP-2403GQBJ}', '{I3O2-F6ML63KQ-7172BGBO}', '{E7E4-H2AP35WT-3011TKZF}', '{Y1U7-G1QQ06MZ-0202SAHE}', '{T1I8-S2PE39YS-8488GFBW}'], 'PC-2754': ['{U2Z5-Y4CY43PH-1724BEFG}', '{N0C1-O9BC81FX-0197UHAQ}'], 'PC-3166': ['{Y8Y5-B9SL62SE-4108SWLH}', '{F9B0-O2ZG79UB-8493NQLW}', '{O1B4-A6NV49UX-4288VWZV}', '{N5G1-V7IS68QN-1019QBUZ}', '{B5T3-G6XY77MV-9691DDRL}', '{N8F4-H2UJ90KA-2560TZXY}', '{K6N2-K9UG02JE-8341GNGB}', '{S8Z9-Q5NF14TT-2185AJYP}', '{T5X7-N9YZ42RD-8705AQGS}', '{S4D9-B7VS12NU-6208XPAU}'], 'PC-9595': ['{W9K6-U0UX80IE-4062WXGG}', '{F9D0-G8XL55WL-8267GXHR}', '{P7P3-G1UH87DD-4619NYYF}', '{K8N5-X2HV30GG-1539QRES}', '{F9V5-V1JT23NF-1958LAZC}', '{K8S5-M9FM04GN-0483DSFX}', '{R8F4-L0MH07UU-0100CSLZ}', '{U6G8-B5JH08NE-1098ANSH}', '{F3G1-F2WX98GK-8966LCSB}', '{A8E1-R8SH59YH-6845MLAQ}', '{I2Z3-C9YO13CO-5791JOUT}', '{N1H8-S2BW83VS-3884CUAW}', '{H1F8-E2HK78FS-2589NAQA}', '{U0N2-G5DX14SA-0548ODJH}'], 'PC-0695': ['{D0X6-C4JZ59ZK-2610AEPX}', '{K0T3-C9IR03PM-3324MUTG}', '{H3D8-D8CX13BH-0980POGQ}', '{W8X1-Q2IN81RK-3534GYXW}', '{J8Y2-I4ZA41VO-1118OSFB}', '{F0Y6-U9DZ87YA-3649KYFY}', '{P3Z9-E2JH55GO-5616BUSX}'], 'PC-7612': ['{O3I5-P0CN98SZ-5778YEEI}', '{I9W9-D2WO83CT-2687IEDA}', '{F4A5-Z0BB40HN-5111ZGUA}', '{C8F7-U5BN06BA-8321TPZP}', '{N6X0-A6KJ30SR-8175TTVN}', '{Q9M7-B9ZS23ID-0548PAQA}', '{U7T4-M5LU87JV-2632LFKC}', '{U6F1-M1UR35XC-3732GFPH}', '{S7G6-I1DP27JE-9544JFFY}', '{L4Q2-L0DC78GC-4212LVYD}', '{I4P7-K9KU08XU-6653DOFY}', '{V8H2-C9ZB37NY-0368ZICH}', '{O7Z8-L2QL01CP-9458QQKS}', '{Y5Q9-S8MA84PR-7311OPVL}', '{B8H6-Y2MI05MV-9055XTQR}', '{Y2I3-D6NI78CB-8014FQEP}', '{Q4O9-G6UX54CU-2015AGZD}', '{Y5S0-W9LZ73HW-6741EOOF}', '{J9S2-A7OI70TD-5188SNEP}', '{O0L6-B0RE27IC-6023GWDT}', '{K5I9-N5RM52LV-2486RTJP}', '{J9Y7-T0IA92NU-4948VNDM}', '{W2B7-N9TW33BO-7005FMUL}', '{H0D2-T2XJ73FN-5324QMMC}', '{B8R7-M6QB43MG-0916UFYW}', '{W0N1-T3WT78JB-9066UCYB}', '{I2T0-V9DI00ZG-0039VDAF}', '{Z9O1-T6SF25SK-7916MCQI}', '{X7R2-G0DD33CF-4192VVWJ}', '{I2P4-P1YQ03FO-9097BOAA}', '{U5N1-Z5UA33FS-0790CXPD}', '{E0D0-J9ZO19QD-1277SVUT}', '{V3R2-R4QZ09CA-0901EIJM}', '{I3I9-P4AS16GZ-2797FCQS}', '{P0J8-Y3GZ61XV-6791KPVC}', '{J8H9-Q9DG64RD-0937QYRI}'], 'PC-2155': ['{O3W2-R2LJ65GE-5762CCDU}', '{P9J5-C4LG85SP-2632PDCU}', '{B5R5-A1BO76ER-9977FPYW}', '{P7U4-J2KQ04EC-8876SHUT}'], 'PC-5945': ['{H2E5-Q2FH06CX-3955ETKI}', '{P6D1-S7EE22UZ-2724TCFC}', '{Y6Q8-A6SD37RP-7586IGEN}', '{S4E4-F2XJ21VD-3243UVSJ}', '{U7Z7-K9LH51GK-7143DYKZ}', '{H1D1-N9CR78WF-8174CCGF}', '{B8G7-V3PD88OK-6999WCNR}', '{P2F1-T8TQ56MI-3818DPUO}', '{R5Q6-K5KU73LH-1241FNDY}', '{Y5U9-H2OY93DX-3958KHZC}', '{E0Y1-F9LN48UA-7763WJDY}', '{D8U4-N6RH22LV-4336OIBX}', '{A5B4-K0NJ77PW-1625TGWG}', '{P0L5-I0WS21JD-5578YTAJ}', '{Z2F8-W1GA40RM-7131LWWY}', '{Z7U3-F4MI77FW-0938OBTT}', '{P3S4-J3YZ25XZ-7317CNLY}', '{B7H8-L3DL02LJ-0649ALNV}', '{P1O3-Q3FP61BT-2887CVEA}', '{Z8J6-G7IP07OH-8724DIIG}', '{W9W6-B3JL88VM-4577TYEA}', '{Z2B8-Q3OG78ZO-9580SDYU}', '{L2B8-Z1EG00IK-2159OHQN}', '{V6U0-U2CR64PI-4927TCTE}', '{A0G5-R1VZ16QJ-7657MVUW}', '{F2R9-K9UJ09WE-8268LRAY}', '{Q6V9-L2QT63WS-4674VZKP}', '{Q4I4-Y7ZR27YF-0214XGLY}', '{K1D4-P8TI46ZE-1455RHUZ}', '{C6G2-D0WN38IM-3624TGQK}', '{O0F3-R9ZW10FM-1463PPWK}', '{G5C8-N3LV04LQ-4108KXLU}', '{A7B3-A5EW02XG-7171DITO}', '{X7V0-P7NN48KF-5422ZDKP}', '{T4A9-D9CO11NH-1194BFVE}', '{J0Y3-X2JJ29KT-3770IDKS}', '{O6H4-H5YY44ZL-8680FFSD}', '{G3B3-B7KR78FP-1005EITW}', '{F5P9-I9AM83DC-2172BVTR}', '{W8F0-A8QG15PN-8002XKHU}', '{H1B3-Q7JF70YP-2696MJAG}'], 'PC-7239': ['{U2A0-J3ZO81IH-6510VANL}', '{A0H4-U9ON65PD-4449RDVA}', '{G2S1-T9JQ49LU-0418IVQG}', '{I3O8-X0GV28GT-7637ONCX}', '{D5S7-K2UW40GS-1635JUMK}', '{J7P4-X9NA60KU-8378SAEV}', '{U3R9-N1WJ99XN-5074LDNA}', '{S5R0-E1KF82NF-6832VIGB}', '{U1H4-W4PR26DW-9190VAWQ}', '{I2R4-S5IM26SX-3429JNOQ}', '{I9T9-W2UK33EH-4890LHGX}', '{P0U7-H5MH64RL-5112NZJQ}', '{G1G6-R7TJ33UL-3349WHFI}', '{J7M7-C6LC86YF-1891YHJV}', '{F3T0-H6WI72RU-1593LDEN}', '{D2B3-W6RV73LN-3497OSDB}', '{Q2D2-H1CS35RV-3261MXLC}', '{V1Y1-H5JP97PH-8737HKAP}', '{P1P3-N8SP84RU-1707OQXT}', '{I2H2-K1LG86LB-7135TZVA}', '{S3M4-S1JH71TA-7796MBBJ}', '{V0W5-O0GP94YQ-9732UHCQ}', '{R9N1-X8EP15JZ-7071NDUL}', '{L2Y0-S5EF50EE-9218QGHB}', '{I5G9-M5TO85EP-9539NQEK}', '{L0O4-Z5YL44ZE-4206ENGZ}', '{W8G2-G2MI23MD-4633GTEV}', '{V8D9-A4UU76KY-8861XRSR}', '{I6Z5-T7DS41IH-3659CGZT}', '{A2E2-K3MR25JS-0651VKIO}', '{Y6X7-P4NG22OV-6440FUQI}', '{Y3A8-E2PZ37LM-9995PYLV}', '{W9N4-C9DM57UI-5329EAJJ}', '{Q6C1-T8NM66FM-1945JRIK}', '{J3T4-G6LK15OO-1135QXOD}', '{B6C3-E9DF00TG-5312HZOQ}', '{D2E9-S5LD65MY-9698ZBSK}', '{M3R4-V3NW89EN-5027SKLV}', '{C6H9-O4HK02YO-4419MMJB}'], 'PC-5872': ['{B5A3-K5TS54HV-8484UAVE}', '{B9D7-A0UM76QW-0549KGNM}', '{S6H3-G3ME52FC-7916WXVL}', '{S0A5-G3WB72QC-9039JTGA}'], 'PC-8536': ['{W7K2-J5HA74WL-5833LLTI}', '{X5K0-F4ZV93TU-0960JDET}', '{O2E3-G1KV35PO-9207LLRJ}', '{Z0E5-U6GT25HD-5518FKRX}'], 'PC-8053': ['{V6S2-H2GY91JS-7495CFBF}', '{J9L1-F2HY27HP-0766QGVA}', '{H4S4-B0AC35GX-5685ZROD}', '{Q1U9-C9KU51TE-7593GQHE}', '{L9V7-I5CW15FN-2127DANX}', '{Z0F1-G9NC34JU-3023LQTS}'], 'PC-0804': ['{L8S9-Q2NS95NB-3167LHVG}', '{Y3W3-N3EQ85HU-8377JUMI}', '{Y8C0-Q1AA51WZ-9376OAUJ}', '{N5R3-N9ZM76PM-0890UTEO}', '{F7J6-J2SB67JN-4196IUSD}', '{C0C7-T0CZ37SL-2147DQDB}', '{E1C2-E5GT36RJ-4549NYWR}', '{R1R9-M7LK22CB-0990JOIS}', '{D8L2-S6LW59WK-2032YGYN}', '{Q9Z7-N7BK39TP-4235RVPD}', '{W0X4-R8CS30UH-8494CBIO}', '{S7V0-G5LE82CF-7737HOMT}', '{U9H8-O0LE05DQ-1499WJVU}', '{W6U7-N6PL32GQ-3087DZXP}', '{Q1W8-J4LL22RC-4378RVJW}', '{Z9Q0-B2PH42ME-3668EUIT}', '{V8P6-R9RV85FC-6026BMVY}', '{A5T8-F5OB03IT-9226KTFA}', '{V1Y8-F1WR66QX-3402WQZS}', '{I6I1-H8PY82AY-9066XHDO}', '{M4Y8-R3HZ30QR-4178CLHE}', '{F0Z4-K9TB74AM-5685CZLU}', '{B3S8-Q3YS88GB-5569RADA}', '{O8B2-Q1SH55XF-1056DHWA}', '{J2D9-H6IJ00BR-5988GZMB}', '{O1J8-C8VY15PA-1487DJQB}', '{X5I6-P6ZQ72TW-2878BWGB}', '{X4N9-T3FR68OE-6309HGNX}', '{B1T1-Q3QU89OP-1214MNZT}', '{X9A7-A3JR78PM-0500BNZX}', '{D3V7-J1DU80CB-5456QLJT}', '{G4K4-C6BJ17TX-4268HSZY}', '{R4V8-K5VE77YX-6306TUJI}', '{U4R7-A0FF71PH-6598NVTL}', '{W8Z1-R2KI17KD-3353JWRJ}', '{K8V1-J1CW09FF-8665WQDU}'], 'PC-9821': ['{X0X3-E2WI74QJ-9102JDGZ}', '{F1L6-C4NS42YI-3406IRPD}'], 'PC-1237': ['{A8A1-Y4ZZ33RA-7660FCVS}', '{G8A6-A1RX88MX-3716DOVF}', '{V0M0-B4OO11TG-6330JROX}'], 'PC-0026': ['{A3Q7-G9CV17YG-8280HQAG}', '{N4T1-E8TB30YJ-5127DVUG}', '{N2X5-H6PJ50FT-8504APZV}', '{S9A3-F1DA64GM-0840MAGS}', '{B5U6-G0VP78MT-9200OJPQ}', '{P5S8-V4XI07BL-2636VFYI}', '{E8U9-N6UP12HV-3986BCCX}', '{R1U9-B3ZL38CJ-7566CGGK}', '{X7K2-Y3WQ01QO-1029MBLG}', '{L6U0-Q2SV29BL-4486WPXL}', '{K1O9-W7VI58GR-5860FBFV}', '{G5U1-N5PV87HH-7153UAWS}', '{B4V8-G6YO88OH-3615KGRA}', '{U4N6-W2JF90IO-5901PMYG}', '{J1O4-T8ZH13NG-3744OGRT}', '{A2A2-O6LC17KF-8463XVJA}', '{X3N9-V6OS31EW-9865BQIK}', '{Y9N4-C2GE60FJ-5748ISAI}', '{J3N2-F0QQ07TE-0304QMIH}', '{I7A8-R1XC26MN-5172FZDP}', '{Y7F2-E5HO26AU-0809JBVB}', '{I8B5-W6OW73HH-9567KYVR}', '{C0H8-Z6WR57IE-0169HSHI}', '{N5B3-Z0PU48KY-1247XPIR}', '{T3G0-F2AM11JJ-4961ZLWC}', '{P9V2-D3OD14VB-8302GODI}', '{P5E7-F3QU36OM-0159KKFB}', '{R3R9-Y1ZR94MX-9044LCAO}', '{E5Z3-R8RU90DR-4574UFIJ}', '{W4P1-Y1KI22LV-5261XKFG}', '{I6E3-V8NI35XR-1203NRLH}', '{Z6J4-A3TG81QX-9346MQTU}', '{V1B9-W5JZ49IM-9782ZHDP}', '{R0L0-B8WF67CO-1784EDKK}', '{X2M8-W0RT18CN-0018SGQS}', '{J6M5-D2KW70KW-9681SONI}', '{I8I3-D6SO09QP-2347THFA}', '{M4M7-P0YE34PM-9661LCWU}', '{N6Q4-M8KV30LF-2132XOPV}', '{C1E3-J4OC41TW-7555SJJW}', '{W0H5-B6MB29VS-4361AHAB}', '{Y2H0-O0OV80UK-5964UKVO}', '{C4G2-R1PC71BZ-4251LIKT}', '{G1E5-D6EH88DM-2272RQZZ}', '{F5F2-W7NX68PM-2057LPGX}'], 'PC-9364': ['{Z4Q9-U8FZ03XV-8455EFSV}', '{W6H3-Y1BF94SN-5595PJGG}'], 'PC-6491': ['{R1Q0-O3RM06DA-4253MBND}', '{W3X8-D9XX93IC-1684DEDN}', '{C2U6-V5SB82NQ-4194YUSM}', '{K5P1-J0CH37WG-9424TMGI}', '{O7E6-A5PT18GT-2511UYWV}', '{L3S0-V0HP02SS-2801WJRF}', '{B0G5-K7TA66FN-7604SLLJ}', '{R8K3-E8WZ21DK-3638VXLC}', '{I5W3-P6DX64SK-2355DJFB}', '{J1T5-O3UP38HW-8057OWKY}', '{P8W8-Z3MF69IP-4332MDPP}', '{H4K6-V9VD54DI-2145MFEO}', '{K6W2-T7EJ93HF-6240AWSX}', '{N4Q2-I7ZO71EY-0651LJPI}', '{R1U5-E8KL91MU-0655GEWW}', '{R3O5-H2RD95RF-4727ICNO}', '{M6P5-C2KZ84BP-1289LWRQ}', '{F0W5-C4LR97DR-4756PXAG}', '{W2V3-G0QJ93HX-3392UGNO}', '{I6R1-H6NQ27KX-2073ZSHA}', '{N6Q6-N8JU78LF-1486JJEO}', '{F0F8-A1OR27AS-9548PGFR}', '{M9K5-H9QD17GZ-4619GNPA}', '{B2Z6-E3ZG87IL-1411BVCQ}', '{H2I3-B8FR87TR-7372IPUW}'], 'PC-2999': ['{L0R0-D3NR92UX-9782DQLO}', '{L0S1-K2QU39VW-1504LSDE}', '{X0D6-W7SU60VL-0856XVGO}', '{V3R5-M5QH96LR-2626NFIS}', '{U8K6-O2PJ59SE-4060DOXH}', '{Y9Z7-S4WK50LN-7231AVDD}', '{B6V9-W3HO04PI-6232VNTD}', '{T8G3-A8SU79SP-2496PWKR}', '{N8B1-W9EQ53AK-4124IQJL}', '{J3Z2-H4SS44IT-4427DWEG}', '{H0E1-C1NG65IW-1828UIWE}', '{O4J4-W3YQ15SF-3439MZUH}', '{A0C6-O2NP78KB-0771AEXY}', '{L8T7-W3CF93TZ-8655XUGS}', '{L2F3-G6YZ49PU-1337JHXT}', '{L1L8-B5IX52DK-6929KJEH}', '{W2F9-J3CD75NJ-8433RAPG}', '{U5M3-D8MJ51ZW-7370TZRK}', '{F7A1-D1XX99TT-8488BWKE}', '{S0B5-N0WT02XB-1236VZFZ}', '{X5X4-B7KW46GB-6756EFUJ}', '{Q4K9-P8BE41IG-7781GXTX}', '{T0Q1-R9VD69JX-4083WIIU}', '{J0B1-V3TQ68LQ-9163GSNW}', '{S8R5-G2VC79GO-5780QMFU}', '{F8N4-V4SI52TG-7033RKQE}', '{T7A2-A9QA46KC-2254AECH}', '{X4C9-V0ZT76YQ-7620YPVW}', '{N1H3-D7AN17BH-7634DUGE}'], 'PC-6719': ['{Y5Z7-B6HS38FR-1635CDMZ}', '{J3W3-C9AR21FU-4500RTBO}', '{J5W8-O4UE56QY-2104KHCC}', '{V3Y4-A9ST00DH-3844QAXO}', '{C0J5-H0ZM89IR-0892HFQO}', '{I2L3-A0QE85TR-5648YYIF}', '{Z7X1-X6BP79GK-0182ZAUH}', '{A3K2-N7PY92KN-7827SIKN}', '{Q6H3-A2GQ90CY-1453XDHQ}', '{G9B0-I5UC95HA-2537FGVQ}', '{C0H9-R4KQ33LU-9687DSFC}', '{D3D4-A7FT55ON-8027RYRT}', '{K9T4-J3IR18QM-4755VVLY}', '{T0T0-V9QX25YO-3200IPQK}', '{F4E3-H5WL07NY-2556SDCE}', '{U3F9-B1QY94JE-0254KSUX}', '{E8E0-E7QZ19EZ-4334YZGQ}', '{X8I4-V9BH17HG-4661RELX}', '{J3P8-H1FA39TV-7464DUYL}'], 'PC-2973': ['{Y8X6-P7RZ78IB-5529OKIL}', '{G7S1-G3UD32YH-1160ZXWI}', '{C6Y0-K0XF95PA-1483XOBL}', '{J1L0-F6PU50GV-3869ZAZD}', '{L3L1-J0UZ54GS-8523JYLU}', '{T5D7-O3NC02OC-3308SJIK}', '{H7J8-M2OV81ME-0609SJPW}', '{D8N9-V0ST83RS-0665YNRH}', '{J4O3-D5IH81PB-3015BEEW}', '{B6F8-Y5TU80VA-5468YQDR}', '{O2N5-W6AI30WY-7543ODSV}', '{K8U8-G5NA46IJ-4471HPGT}', '{L9Y8-M2AW76CL-1917TKCM}', '{S3N8-Q0ZO43CR-6566ZFMA}', '{K9Q2-T8FC58LO-1220IFWK}', '{W5I5-H9CT95DR-5956DNHV}', '{U1S2-J1NU31IG-5859LCFZ}', '{U1G9-K0IX47VA-6385SMGI}'], 'PC-2165': ['{I3A5-V0AB11QZ-6477DGPD}', '{P4F4-B8BZ46VK-0921ADHD}', '{R8H8-F0UL13AL-4453SNJO}', '{Y6P5-D2ET60CZ-7526RPKC}', '{N8Z7-V1JM27XG-3654PXHA}', '{J1N0-F9VD92KT-9231ZIOI}', '{P3D1-G4KD37HS-6680VCHZ}', '{G2X6-S4KW92ES-6498UYLJ}', '{B3P1-L0JL80MG-8588JVNM}', '{R4A6-O0OM39GO-4340UFDW}', '{Z6J0-U1KB07BK-0905CCDQ}', '{H4T4-L1CQ27HI-6290YONQ}', '{U2D2-G2GE85VO-3920DSIK}', '{C0F1-H8HK09RL-6215QOBP}', '{L0G4-M7CZ05DM-5362DHUG}', '{X5F2-C1CP04SR-1489MGST}', '{F9L2-E5XA39LK-0273AQTC}', '{H7D9-A5GH24IR-2307OMKE}', '{R9L9-C9ED59VC-5508KITU}', '{R9C2-C8ZD56WH-4596PDQO}', '{P5W9-M0LM05LT-8925HEAM}', '{G3D6-R2CB05WS-8604TEAB}', '{K6J3-A2PZ35BW-7544ZWSM}', '{Y9F0-I9TP09WI-1927WVKT}', '{Z6D1-I2ET35LJ-5148PSZW}', '{I6X2-E4MW91CA-0751VEPG}', '{G4M7-P4BO33UL-5213TGBF}', '{X4Q7-I8VR34ZP-6775NMRT}', '{P5Z5-E2AX41OT-8950OKML}', '{D7J1-C0RD56XL-7373HSSH}', '{R9N7-G5EL45KB-4718UPCA}', '{N1Z2-D3KG58UW-5516QGNN}'], 'PC-3379': ['{F6E7-U9YL89TO-1089ASHE}', '{V8L1-X3MP26OF-6057EOXQ}', '{S2W9-R4MP30UF-8207QWDI}', '{X4K6-Q6AE50JZ-2352BMTR}', '{Z4F3-B2VD55HR-0774SDRN}', '{W4Y0-H3YL27HQ-6250CKAL}', '{I8W5-G7QD28TC-8144SEZY}', '{Z6C3-Q4FQ78NM-8662EMBT}', '{B8H9-N5CU64LN-3122KHSM}', '{D4B7-G6KE14PF-7918MTKV}', '{U7I2-J0EQ12KN-1609YJCG}', '{C7C0-W6TT72UM-0422XIEF}', '{P8I9-H9YW70TX-0358HOPH}', '{C1N7-N9ZY38ZQ-1687BDWB}', '{O8M1-Y6MO26TT-0349FKXW}', '{L0M0-M5YA86AZ-5831ZPUM}', '{Z3H3-L9XL96TI-9672UPMN}', '{M4O0-T0RW17UH-5211PZMH}', '{B9A9-M1KY88FY-1772XYJU}', '{H4C6-D0TS54PK-8213BYDC}', '{P0H3-D6AX98QZ-1739HUPG}', '{R7T3-W2XI11OS-1252VUXQ}', '{G9N1-H2GG48MM-0948DFYX}', '{E9L5-O9UT97NF-4847HWXH}', '{F4D0-X6EP64FP-6727ULBX}', '{F7K3-K4MY08ZY-0452MECM}', '{N2S6-O8HI50BE-2582KRLY}', '{K8B7-B2ZX55XM-8408WTSW}', '{I6G8-Q1FF06HY-4133JUKO}', '{Y7K7-H4GC48OV-5270FKKB}'], 'PC-2281': ['{M3Y0-A3AC50JW-1888MCNQ}', '{A1Z4-Z5ZQ40UQ-5056MFQJ}', '{O8M2-F4ND98CN-6112OEUZ}', '{D8W3-U9OF10EO-2767VOGI}'], 'PC-2145': ['{D4U9-U5DU80RR-3286YBXG}', '{G9B9-V1YG55YT-9797PSYU}', '{M8G1-D4HH15FH-8561YTZY}', '{O5I0-U0MJ14DC-1521ZOLJ}', '{R6X8-N4YO12DD-1068TGDY}', '{N0J7-E9OL80LE-5287QLSC}', '{E5V1-V3PE26GR-7980XIQR}', '{J7E9-J4IS66FJ-7770JBJR}', '{Q8N1-N2TB67NY-4937QJTA}', '{Y0I9-C1KV26FP-6382CBAU}'], 'PC-7520': ['{R7D6-K6HJ53FX-6684DULD}', '{N5R1-H9PV65UG-5309FMMF}', '{X2A3-G1LE50OZ-8592JSYR}', '{R6Q5-O7MA30CO-5754VBDT}'], 'PC-4099': ['{O1Q5-Y4UA34WE-2663XPDX}', '{Y4L1-B8DR64YL-7886GFYA}', '{R5G3-A2OJ28SX-5193IDHP}', '{Y6O5-Y9DK89JR-4373CMLU}', '{S0M2-M2KG31SJ-0138CEYB}', '{E7B9-O0BV38JI-7004AWAM}', '{X6R1-R5PF37WH-5476EPVK}', '{P3Q9-I9GE90VK-3523IQKR}', '{R5Z6-P9EQ79RN-5340XIAV}', '{N5P1-G7YM95QS-5423OUFP}', '{Q3T6-D4JA64GO-1674YQWW}', '{R6L1-R8AN49EX-7784KKZR}', '{R9Q2-W1HY94ZR-5522GPHX}', '{Y2G1-M0OY94YG-5540REQQ}', '{G9U7-Y8RO62ZS-8722XLDW}', '{D8W6-F5PH13FT-1952JMJC}', '{K2E5-E6PV42CX-5289WGSY}', '{O9M0-R6JF35SO-2680QXSZ}', '{G2W4-F8FY25OP-7593OUHI}', '{T0T9-H9NX78EX-6979CVFC}', '{O9Q1-T9XL27AJ-7552WCNE}', '{V3X6-W1MN00HD-7214MFVP}', '{F3G7-O0DE86SX-9587KEVY}', '{K2S7-M9CT37EZ-1496XCUO}'], 'PC-7110': ['{E2R2-V8LC42HC-4150GRQB}', '{Q9Q4-C2FV15HS-5760MQBY}', '{J4H0-M7SZ60ZN-3582DYXB}', '{E7J3-B3ZX71MR-9681RJJK}', '{D5I2-M3BX63GS-2888DGDG}', '{M1E0-C4YZ23TU-9995EWFA}'], 'PC-1574': ['{E3V5-P7XJ64SV-2627IMUL}', '{N7N4-F8VD67ZX-0482ZDFO}', '{G8S7-D4NK87YQ-3140GLIC}', '{A7C2-F2WH16SO-6316RNUJ}', '{Q1N9-N0LH48SO-0645IUMK}', '{R2X9-D4RK70EU-1894TWAJ}', '{R4E5-I1ZI13FX-7266AYJA}', '{G5B3-S3IH60QA-3811CZAY}', '{Q6H8-B8OG15VH-7621AIIN}', '{Y4O6-O1GG60OG-0245HKTM}', '{D3I0-M4RA25JK-2835NGKS}', '{O1K5-X1ZB03OC-0457AMPZ}', '{E0C0-C6GM19VD-1278UCYJ}', '{D6T9-T1EZ57IN-2804HMNT}', '{U0U0-Y7IC44KG-4824QZXO}', '{T2W4-A5JV29BK-5453LCSX}', '{G4F1-E9RB58WL-2033LPZN}', '{I8Z6-T2YN25YV-2779HREO}', '{A7O3-P5BP10PB-0045JSBD}', '{Z5V8-V4KH49SQ-5760QCDD}', '{A6H8-J2LG10IB-1835RVZM}', '{Y6U8-R0EN53HX-2790FZBY}', '{H1I3-F5EF84RR-1174SVBZ}', '{T3S3-S3HN11SJ-9324WUJM}', '{B6H5-V9AS59ZO-5721IJDB}', '{O4H4-T6NI20XP-5870JFGC}', '{L0B3-W8ZX39QF-9606NOAE}', '{P6C6-F0OZ31YK-4417ANLK}', '{G1L7-R1AJ28NP-6547QYCD}', '{I7Y1-S0ZJ93DH-8184ODNB}', '{X0F0-S5IA75WZ-6892IEIV}', '{W2S5-F0ND27JO-8951QAJJ}', '{V7S8-N2EF87FX-0192RWRG}', '{A9T1-H9EY39QV-3996GSYL}', '{Y2W5-R3EL90VL-3733KSBU}', '{K1Z3-K1KA47RA-8475PURH}', '{R6L2-V7YP88WK-2831VLCA}', '{W4K0-Q0SJ89HF-2270IGFC}', '{M0F1-J7NC98LC-7238XLYE}', '{B3H2-W5YH53DI-5857UIUX}', '{Y8A0-D6VL42UP-1504ZJJP}', '{T0N1-X0TD49TT-5631MELU}', '{G8C4-F2WG47JI-6315PSSV}', '{F6F8-X8JY43EG-9988LQPZ}'], 'PC-5226': ['{C3R2-T2TW74TX-3464IJIM}', '{W4O7-T4NC67PT-7690NSKC}', '{Y6I3-R1VN06QX-8757MENH}', '{J2O4-F1CQ37US-2324RYXO}', '{A1I4-P1GW13PW-8103MFAE}', '{Q1S6-C4LD87MD-6668WOZY}', '{H1I0-J5SC34RV-5680RMCP}', '{H6F0-P5BC64PH-6235ZXRQ}', '{P8S7-F6WX49IZ-0590CYCG}', '{F7M4-L6QE81DI-5228WFPL}', '{Q1E4-L2LZ50HG-5125BWZQ}', '{Z8H7-C1BX65UZ-8812TFAE}', '{G2J7-B9LW12WY-6874DHLB}', '{G1S6-P1UQ57EN-7584ZOEG}', '{A4Y6-M1SQ35BK-3109SUTR}', '{E3M5-E6WG98EW-4925VXGD}', '{W8U1-Z4MM64GV-8794OTTO}', '{Q6B1-X8ZI83XX-5644HOVU}', '{S4J6-Z3KH54TJ-2289ANLD}', '{C1C0-F3CF30AP-9614OMTW}', '{E1R2-W5UK97QX-7558TBCN}', '{F7T0-S4CP44YP-5957HQRS}', '{D4B2-R6LG66SC-0815KHFJ}', '{P0N4-V7RB90HO-4493WLDM}', '{M1S2-K6RQ86HC-3925VLPU}', '{I6J5-L4OZ73ML-8683NCCE}', '{R1D1-Q8FR67XB-1415JPGZ}', '{A3I0-Q3UO99WB-5413TTXM}', '{C8V6-Z5HH15YB-8284GWYN}', '{T4X9-V8MS99AH-8101MDEG}', '{G2X1-A9QG45DO-1746HFEP}', '{F8X1-G4GV81NF-7361KWOA}', '{S6H6-I5PP88FD-6838EAYO}', '{V5S1-X4PA72ZS-2781ZECB}', '{W8K5-L3VH62YZ-5894IPGC}', '{U9O7-P8DD64QF-1940PKTM}', '{X0F4-S9CS88SD-9952VIRA}'], 'PC-2223': ['{L0O4-C7NV67SQ-5119AOKI}', '{J3E0-Q7ZA23FW-8819QDFI}', '{E7I5-V4XC29DL-5422ARDZ}', '{L5X0-V9RK38XW-1087GKLW}', '{M5O6-M5QO82QX-2444XTFQ}', '{K2W3-S3XG59HU-4853NNRK}', '{B3N7-W5UZ21WA-7525ZTYL}', '{C5N0-T9UD14YE-7557IAZA}', '{P4A3-I5OI23IH-1394VUBL}', '{O7F6-X8UU68RN-0628XRSN}', '{T1N1-K9SY15YJ-3428KSJX}', '{G1M0-V6HF93VX-1605IWSI}'], 'PC-9993': ['{U0W7-L7ZR26PC-8024BTVF}', '{L6N5-R7DO60GP-7630KZJG}', '{E1Q1-B8FR78AI-4217BSVI}', '{V3R8-K8NE21LA-8435MXVI}', '{W0V8-K0RE38KP-8727MHRE}', '{F7A7-B9RE08HC-1172JCFS}', '{J0R9-C7OP22SM-7072VYCG}', '{J4D8-N5DL63AY-4565VQXE}', '{E7Z6-V9SF78QC-2596RJAN}', '{L0M2-U4CL74XG-3345WRDV}', '{V0D7-T9KE48CF-8499ZINM}', '{S0P2-J3DM29QM-6662NYDI}', '{G4I4-O3ZR00VU-9500ZBMG}', '{I6U2-C0NE56JG-1628YQQY}', '{D2V4-M1HK00YM-0947SIXH}', '{L4F9-D0YE10QW-1021QYOW}', '{F6N5-P6DI69OQ-1446HMMS}', '{Y1W9-R7VJ77IC-9445QFNQ}', '{R0B7-N2UY46GX-2163KPXU}', '{Y3U8-G5BL42LO-9404XAHI}', '{G6O2-V1BA89IL-9551VVVW}', '{C7E2-M2KL43BA-8425WTXD}', '{T5S8-H7KZ29BM-5254RFKH}', '{D1T3-Z8LM86HW-3993JKGM}', '{U8K6-Q6DS75GL-4607UHUN}', '{F0D2-W3AQ17GW-2596CUQN}', '{D6P8-L9LS51TV-5381ULGS}', '{Y0I3-X3SQ09OJ-3528SOSI}', '{I1K9-A5AP62UX-4090HAQL}', '{L4D6-U4YL45MY-3785NFRN}', '{T4W6-Y0PD43WU-2068BKDK}', '{Q5F0-C2CL39IV-4287VNJZ}', '{O8F7-X0WN56HT-9547ACPN}', '{M6H9-T8KW83CW-8673NOKF}', '{Q2D5-L1TR34BP-5973NREP}', '{M6V3-J5QI76BV-8938NYOF}', '{K7U2-S5XW14OH-6439LBTV}', '{O9U5-B3RK78QC-8909ZVGZ}', '{B4K4-S0RE28TL-2065JJOB}', '{Q8U5-N8RS16FH-4047CNOX}', '{S0O9-A0FC53XD-1586KITQ}', '{L6I7-Z9KH03HR-6026CHAD}', '{G5L5-C2EB32MA-8675UDBP}'], 'PC-2699': ['{N0L9-N6QV93XZ-5345MHUY}', '{J7F2-G5YG32JL-6343VXXQ}', '{A4T2-I4HH58AY-2621GKXK}', '{F2H9-A9MB55QY-9777QZMJ}', '{L0Y8-R7VW78SQ-1496MAYX}'], 'PC-5545': ['{C5A4-H7TL17YY-6676ZEMN}', '{O8H8-B3GI51QJ-2192BWYI}', '{I4I6-D5JN23ZP-3923DAAM}', '{C5R3-X2WM86GE-9878VTVK}', '{T5O9-B7QM29UY-3628ATLU}', '{H7B4-H3HR23PI-9021NUFZ}', '{X7X3-U4EJ99NW-6014TOIL}', '{L9R0-I8AL39XY-4218JKMP}', '{X5H2-V5UD79SL-5703JXNY}', '{M9V1-G9WH87UJ-4152FAVR}', '{R5G5-J9RE42QS-0780UFVX}', '{J2I6-J0JY40NO-7729UUCH}', '{F3C4-F9MU45XJ-1903RGJC}', '{Y1T4-O7SP35AN-6892DADN}', '{N9J5-F3MH68QL-8743TMFU}', '{O4G1-Z9WI94DI-0464IRZO}', '{G5P8-U9HI31CE-4315YZFB}', '{I3C2-C0CB08QG-4283LXUC}', '{K8S6-O2LQ43BB-3566RAXZ}', '{Q2D8-T3JF14ZI-6605ORFK}', '{U8O7-Y9BH22LS-2205DGAP}', '{G6C2-D8KI57CR-3534NMSN}', '{E2Y5-E7MA67NC-0881GARR}', '{P7X9-Y7KC60JN-2203EDDG}', '{I0Y3-H8ZK27SN-8129CTCV}'], 'PC-5687': ['{U0U5-J2AX64NN-7430KKNP}', '{S1W7-N5RL66HS-8417FLPG}', '{T9S7-R4CL46NO-2720HYVY}', '{Z0P6-H6QZ79BZ-3362JYNM}', '{O5P5-D6KD00KM-4838FFAO}', '{T3L2-A7OE23JT-4301OQAT}', '{U0N5-K2LR02WF-0326JHBR}', '{J8G1-N2JB54NF-3453TVWE}', '{I4G2-I7LM41LU-5408IYHU}', '{R1O0-G7TY99XT-7881DQJV}', '{J9R0-Q9SF26WS-6263SBSL}', '{X6Q8-T0XT08QC-4094IJUZ}', '{I2W8-H6KW38WF-6886LUSC}', '{Q7K1-W3GH32HV-7644SZXB}', '{W6T6-D0DY53AB-0571PYRQ}', '{L8G6-S5FJ61TH-7565RUMH}', '{D5U0-Z6TA66NH-8476IKXG}'], 'PC-8461': ['{P4S1-Q5PB22WZ-1153MGZU}', '{E8D8-X5NB52VQ-5232FIDW}', '{G5X3-Z3TT87MZ-1125ZWHW}', '{U5N0-D9KT82SH-1353KTHL}', '{B1E2-Z3MS26GZ-5290QMFQ}', '{G0D5-F9AM52LG-7683ZVEZ}'], 'PC-4916': ['{P4X7-O8GT98SA-9587PTWU}', '{P7V4-W2QB19PV-4652XYPX}', '{U3W6-Y4AN87OS-1151TVPC}', '{F4F6-L5SL25QC-3184NYHF}'], 'PC-0530': ['{R4O8-K7IV60JD-2718CSDT}', '{Q4J2-G5OI74UN-8754XPXQ}', '{B0A3-P2HF80HY-7891KDTB}', '{K6R3-F1BE15SE-8031QZBQ}'], 'PC-1985': ['{L4C0-Y5DG79DF-5934WDOI}', '{A2T3-G5FZ13ES-8545NEIL}', '{J8K3-E7NP02GP-8515JPPH}', '{Y8C8-W8AW08WZ-7256JHIP}', '{O4S4-F6UH99JZ-7307ZUAH}'], 'PC-6605': ['{T6P8-F5AU31PN-9928KPEK}', '{K6C8-W5WE96BN-9319XOAF}', '{O3O5-Z5QJ95OU-5606RJAD}'], 'PC-1858': ['{G8D5-F4YM80HO-6927BASG}', '{B7T9-Q8XQ48IM-8088XSVL}', '{W2B6-H4XY64FO-2371APJR}', '{M0Y0-D2TQ25US-3289ZTIV}', '{F9S5-P9KK82MI-2694NEXU}', '{K0J9-L1CQ14RJ-2324YEJU}', '{X8X5-G5ZZ04QN-0982AEJV}', '{F4K8-S7HS44LT-2489RCZH}', '{E8E3-C9KD20CC-5270PZPK}', '{I6B7-J1YA63GC-9877WGMN}', '{N3V5-V5VN68QY-4103JIPY}', '{J0I1-F1CX10LS-8608CKAY}', '{P6N5-O7CN20RT-5048DXZP}', '{T3I1-P6CX23RQ-2997SIAU}', '{U4R3-L0VB36IH-4093WHSP}', '{O5J1-F7AK29RR-1306HUDQ}', '{I4E1-Q1JB24QQ-8697QJST}', '{S4O6-N8YJ23RJ-5097PSJJ}', '{R6P6-R2DH97KC-8200HXWO}'], 'PC-5269': ['{O0Z6-O0NZ28FF-5355FQZW}', '{J8Q7-Q3GZ85BC-4115BFQI}', '{B6U2-K4IK77OJ-4904VRXP}', '{W1E7-Q0KO51XO-5969FJUO}', '{U0E8-Y2TV54TA-0894COCW}', '{E9D9-X3FW98UK-6939FLYA}'], 'PC-0783': ['{H9R9-A9HB24QO-6176ZXLV}', '{Y8M4-L9KA17XQ-0621AJEG}', '{D6F0-W4VK76MC-9167MLRQ}']}\n"
     ]
    }
   ],
   "source": [
    "# Access the host-to-node mapping for the last day\n",
    "last_day_hosts = host_to_nodes[-1]\n",
    "if last_day_hosts is not None:\n",
    "    print(f\"Host-to-node mapping for the last day: {last_day_hosts}\")\n",
    "else:\n",
    "    print(\"No activity recorded for the last day\")"
   ]
  },
  {
   "cell_type": "code",
   "execution_count": 8,
   "metadata": {},
   "outputs": [
    {
     "name": "stdout",
     "output_type": "stream",
     "text": [
      "Nodes for PC-9950 on day 0: ['{Y3E5-O5JH43YP-2140MCDI}', '{V8T4-X1BO44XW-6300FEJL}', '{A0K8-Y3OO71TA-8438JNAO}', '{H3C3-O6WG03OY-0619DOQP}', '{Z8L6-O4RO26OO-0236TYAG}', '{M4B7-X8KB96EZ-6502LWAW}', '{B9T8-O8GP76AG-5890LFCB}', '{J1Q6-N9BB85SO-2705GKMO}', '{B7N7-A2HS26CH-2459SERU}', '{Z8K8-N6FD13EU-1547IJKK}', '{G3Z2-X2HZ41PF-4739KFTU}', '{I5H3-H7SO25AV-0123ZWKE}', '{K0X1-U2UU70IA-4970DVGV}', '{Q9I1-K3QL90TL-8552HBKA}', '{K1N2-U2SK21AR-7192IIQF}', '{Q3Y1-Y9SC12MB-2466BTLS}', '{H0I8-N0FY75UO-6936XUNA}', '{P7V9-A3OA41IG-8730MTTL}', '{M8Z2-K4CM26FD-2054FKGT}', '{S3P9-R7WM46BI-2267MZOH}', '{I4E6-K7HN90FQ-5248JXGM}', '{Q1X2-Z0MX16AD-2287SLBL}', '{Z7K0-E2UH16SM-8696WPKA}', '{V2W1-B2BB60VH-8198OJJM}', '{R8K9-C4IU76HA-7025BZNA}', '{E5L6-C0ZI10KF-8661PXMK}', '{R3O7-H4RE54UM-2774SMJG}', '{B1T5-W0XH95QK-9519TESR}', '{E2B3-P5UC96II-7420FAIF}', '{E3L0-L8XF74DW-6334NDPQ}', '{Y4X9-V5BO56MZ-5658SVLF}', '{V0M6-R0EH82CS-1641PLDI}', '{T7E8-L8NU53MH-1998PEIX}', '{W3O1-V3UH44WW-1478ZGBF}', '{Y1I2-T6EA38GF-0399QWTW}', '{I2I8-E6TK18AL-6659QULD}', '{U4H8-S2GP35OO-5639PZEZ}', '{Z0Q8-F7FI97YS-1993SYNK}', '{M7H8-N0QT19ZV-7321AKAC}', '{B7P7-T0AK43MP-0237OGPI}', '{I4D1-R1PU81HP-5542LAHB}', '{Z4H4-Q9LI46WA-4961DYUA}']\n",
      "Nodes for PC-9950 on day 1: ['{N8G5-X7EG93LV-4796BQSV}', '{E4U3-S2ED81TV-8881XRGN}', '{M6D0-R3GD05AN-6626VCKV}']\n",
      "Neighbors of {N8G5-X7EG93LV-4796BQSV} in activity_graph: {'{E4U3-S2ED81TV-8881XRGN}': {0: {'EdgeType': 1, 'weight': 1}}, '{Y3E5-O5JH43YP-2140MCDI}': {0: {'EdgeType': 2, 'weight': 0.07142857142857142}}, '{A0K8-Y3OO71TA-8438JNAO}': {0: {'EdgeType': 3, 'weight': 0.5}}, '{B7N7-A2HS26CH-2459SERU}': {0: {'EdgeType': 3, 'weight': 0.5}}, '{K0X1-U2UU70IA-4970DVGV}': {0: {'EdgeType': 3, 'weight': 0.5}}, '{H0I8-N0FY75UO-6936XUNA}': {0: {'EdgeType': 3, 'weight': 0.5}}, '{V0M6-R0EH82CS-1641PLDI}': {0: {'EdgeType': 3, 'weight': 0.5}}, '{Z0Q8-F7FI97YS-1993SYNK}': {0: {'EdgeType': 3, 'weight': 0.5}}}\n"
     ]
    }
   ],
   "source": [
    "# Check host-to-node mappings and activity graph connections\n",
    "# Print node IDs for host PC-9950 on the first day (day 0)\n",
    "if host_to_nodes[0] is not None and 'PC-9950' in host_to_nodes[0]:\n",
    "    print(f\"Nodes for PC-9950 on day 0: {host_to_nodes[0]['PC-9950']}\")\n",
    "else:\n",
    "    print(\"No nodes for PC-9950 on day 0\")\n",
    "\n",
    "# Print node IDs for host PC-9950 on the second day (day 1)\n",
    "if host_to_nodes[1] is not None and 'PC-9950' in host_to_nodes[1]:\n",
    "    print(f\"Nodes for PC-9950 on day 1: {host_to_nodes[1]['PC-9950']}\")\n",
    "else:\n",
    "    print(\"No nodes for PC-9950 on day 1\")\n",
    "\n",
    "# Print neighbors and edge data for the first node of PC-9950 on the second day\n",
    "if host_to_nodes[1] is not None and 'PC-9950' in host_to_nodes[1] and host_to_nodes[1]['PC-9950']:\n",
    "    first_node = host_to_nodes[1]['PC-9950'][0]\n",
    "    print(f\"Neighbors of {first_node} in activity_graph: {activity_graph[first_node]}\")\n",
    "else:\n",
    "    print(\"No nodes or neighbors for PC-9950 on day 1\")"
   ]
  },
  {
   "cell_type": "code",
   "execution_count": 9,
   "metadata": {},
   "outputs": [
    {
     "name": "stdout",
     "output_type": "stream",
     "text": [
      "Attributes of node {Y3E5-O5JH43YP-2140MCDI}: {'type': 'logon', 'user': 'WTC0699', 'obj': 'PC-9950', 'activity': 'Logon', 'timestamp': 1262502000.0, 'host': 'PC-9950'}\n",
      "Nodes for PC-9950 on day 0:\n",
      "  Host: PC-9950, Activity: Logon, Object: PC-9950\n",
      "  Host: PC-9950, Activity: Logon, Object: PC-9950\n",
      "  Host: PC-9950, Activity: Connect, Object: PC-9950\n",
      "  Host: PC-9950, Activity: File Open, Object: R:\\E5S5QBXU.doc\n",
      "  Host: PC-9950, Activity: File Write, Object: R:\\WTC0699\\MKE4S35D.pdf\n",
      "  Host: PC-9950, Activity: File Write, Object: R:\\JCE2TLZ7.doc\n",
      "  Host: PC-9950, Activity: File Write, Object: R:\\JCE2TLZ7.doc\n",
      "  Host: PC-9950, Activity: Disconnect, Object: PC-9950\n",
      "  Host: PC-9950, Activity: Connect, Object: PC-9950\n",
      "  Host: PC-9950, Activity: File Open, Object: R:\\WTC0699\\VMMYIW17.pdf\n",
      "  Host: PC-9950, Activity: File Open, Object: R:\\E5S5QBXU.doc\n",
      "  Host: PC-9950, Activity: Disconnect, Object: PC-9950\n",
      "  Host: PC-9950, Activity: Connect, Object: PC-9950\n",
      "  Host: PC-9950, Activity: File Open, Object: R:\\WTC0699\\81C6ZB46.doc\n",
      "  Host: PC-9950, Activity: File Write, Object: R:\\WTC0699\\81C6ZB46.doc\n",
      "  Host: PC-9950, Activity: Disconnect, Object: PC-9950\n",
      "  Host: PC-9950, Activity: Connect, Object: PC-9950\n",
      "  Host: PC-9950, Activity: File Open, Object: R:\\E5S5QBXU.doc\n",
      "  Host: PC-9950, Activity: File Write, Object: R:\\WTC0699\\VMMYIW17.pdf\n",
      "  Host: PC-9950, Activity: File Open, Object: C:\\72V18D6\\GNE9YOJU.doc\n",
      "  Host: PC-9950, Activity: File Write, Object: R:\\WTC0699\\OCYZ2BIQ.doc\n",
      "  Host: PC-9950, Activity: File Open, Object: R:\\E5S5QBXU.doc\n",
      "  Host: PC-9950, Activity: File Open, Object: C:\\HQWSMNKX.doc\n",
      "  Host: PC-9950, Activity: File Open, Object: R:\\WTC0699\\HBX5O9TA.doc\n",
      "  Host: PC-9950, Activity: File Write, Object: R:\\SC0B4VLF.jpg\n",
      "  Host: PC-9950, Activity: File Open, Object: R:\\WTC0699\\VMMYIW17.pdf\n",
      "  Host: PC-9950, Activity: File Open, Object: R:\\E5S5QBXU.doc\n",
      "  Host: PC-9950, Activity: File Open, Object: C:\\PGRGEP4R.pdf\n",
      "  Host: PC-9950, Activity: File Write, Object: R:\\SC0B4VLF.jpg\n",
      "  Host: PC-9950, Activity: File Open, Object: R:\\E1CXYRD8.zip\n",
      "  Host: PC-9950, Activity: Disconnect, Object: PC-9950\n",
      "  Host: PC-9950, Activity: Connect, Object: PC-9950\n",
      "  Host: PC-9950, Activity: File Write, Object: R:\\WTC0699\\81C6ZB46.doc\n",
      "  Host: PC-9950, Activity: File Write, Object: R:\\WTC0699\\FC9SEL7U.doc\n",
      "  Host: PC-9950, Activity: File Open, Object: R:\\WTC0699\\FC9SEL7U.doc\n",
      "  Host: PC-9950, Activity: File Write, Object: R:\\WTC0699\\N3Z0K7MJ.doc\n",
      "  Host: PC-9950, Activity: Disconnect, Object: PC-9950\n",
      "  Host: PC-9950, Activity: Connect, Object: PC-9950\n",
      "  Host: PC-9950, Activity: File Write, Object: R:\\WTC0699\\TSKR6RSZ.pdf\n",
      "  Host: PC-9950, Activity: File Write, Object: R:\\WTC0699\\TSKR6RSZ.pdf\n",
      "  Host: PC-9950, Activity: Disconnect, Object: PC-9950\n",
      "  Host: PC-9950, Activity: Logoff, Object: PC-9950\n"
     ]
    }
   ],
   "source": [
    "# Check attributes of a specific node in the activity graph\n",
    "node_id = '{Y3E5-O5JH43YP-2140MCDI}'\n",
    "if node_id in activity_graph.nodes:\n",
    "    print(f\"Attributes of node {node_id}: {activity_graph.nodes[node_id]}\")\n",
    "else:\n",
    "    print(f\"Node {node_id} not found in activity_graph\")\n",
    "\n",
    "# Print host, activity, and object for nodes associated with PC-9950 on the first day\n",
    "if host_to_nodes[0] is not None and 'PC-9950' in host_to_nodes[0]:\n",
    "    print(\"Nodes for PC-9950 on day 0:\")\n",
    "    for node_id in host_to_nodes[0]['PC-9950']:\n",
    "        node_attrs = activity_graph.nodes[node_id]\n",
    "        print(f\"  Host: {node_attrs['host']}, Activity: {node_attrs['activity']}, Object: {node_attrs['obj']}\")\n",
    "else:\n",
    "    print(\"No nodes for PC-9950 on day 0\")"
   ]
  },
  {
   "cell_type": "code",
   "execution_count": 10,
   "metadata": {},
   "outputs": [
    {
     "name": "stdout",
     "output_type": "stream",
     "text": [
      "Attributes of node {E4U3-S2ED81TV-8881XRGN}: {'type': 'file', 'user': 'WTC0699', 'obj': 'R:\\\\JCE2TLZ7.doc', 'activity': 'File Write', 'timestamp': 1262592342.0, 'host': 'PC-9950'}\n"
     ]
    }
   ],
   "source": [
    "# Check attributes of a specific node in the activity graph\n",
    "node_id = '{E4U3-S2ED81TV-8881XRGN}'\n",
    "if node_id in activity_graph.nodes:\n",
    "    print(f\"Attributes of node {node_id}: {activity_graph.nodes[node_id]}\")\n",
    "else:\n",
    "    print(f\"Node {node_id} not found in activity_graph\")"
   ]
  },
  {
   "cell_type": "code",
   "execution_count": 11,
   "metadata": {},
   "outputs": [
    {
     "name": "stdout",
     "output_type": "stream",
     "text": [
      "Number of nodes for PC-9950 on day 0: 42\n",
      "Number of nodes for PC-9950 on day 1: 3\n",
      "First 10 hosts on day 0: ['PC-3971', 'PC-4302', 'PC-0765', 'PC-2009', 'PC-2320', 'PC-9155', 'PC-1262', 'PC-9843', 'PC-1713', 'PC-5507']\n"
     ]
    }
   ],
   "source": [
    "# Print the number of nodes for PC-9950 on the first day (day 0)\n",
    "if host_to_nodes[0] is not None and 'PC-9950' in host_to_nodes[0]:\n",
    "    print(f\"Number of nodes for PC-9950 on day 0: {len(host_to_nodes[0]['PC-9950'])}\")\n",
    "else:\n",
    "    print(\"No nodes for PC-9950 on day 0\")\n",
    "\n",
    "# Print the number of nodes for PC-9950 on the second day (day 1)\n",
    "if host_to_nodes[1] is not None and 'PC-9950' in host_to_nodes[1]:\n",
    "    print(f\"Number of nodes for PC-9950 on day 1: {len(host_to_nodes[1]['PC-9950'])}\")\n",
    "else:\n",
    "    print(\"No nodes for PC-9950 on day 1\")\n",
    "\n",
    "# Collect and print up to 10 host IDs from the first day\n",
    "host_ids = []\n",
    "if host_to_nodes[0] is not None:\n",
    "    host_ids = list(host_to_nodes[0].keys())\n",
    "    print(f\"First 10 hosts on day 0: {host_ids[:10]}\")\n",
    "else:\n",
    "    print(\"No hosts on day 0\")"
   ]
  },
  {
   "cell_type": "code",
   "execution_count": 12,
   "metadata": {},
   "outputs": [
    {
     "name": "stdout",
     "output_type": "stream",
     "text": [
      "Unique activities for PC-9950 across all days: {'Logoff', 'File Open', 'Connect', 'Disconnect', 'Logon', 'File Write'}\n"
     ]
    }
   ],
   "source": [
    "# Collect unique activity types for a specific host (PC-9950) across all days\n",
    "host = 'PC-9950'\n",
    "activity_set = set()\n",
    "\n",
    "for day_idx, day_activity in enumerate(host_to_nodes):\n",
    "    if day_activity is not None and host in day_activity:\n",
    "        for node_id in day_activity[host]:\n",
    "            activity_set.add(activity_graph.nodes[node_id]['activity'])\n",
    "\n",
    "print(f\"Unique activities for {host} across all days: {activity_set}\")"
   ]
  },
  {
   "cell_type": "code",
   "execution_count": 13,
   "metadata": {},
   "outputs": [
    {
     "name": "stdout",
     "output_type": "stream",
     "text": [
      "Attributes of node {Y3E5-O5JH43YP-2140MCDI}: {'type': 'logon', 'user': 'WTC0699', 'obj': 'PC-9950', 'activity': 'Logon', 'timestamp': 1262502000.0, 'host': 'PC-9950'}\n"
     ]
    }
   ],
   "source": [
    "# Access attributes of the first node for PC-9950 on day 0\n",
    "host = 'PC-9950'\n",
    "if host_to_nodes[0] is not None and host in host_to_nodes[0] and host_to_nodes[0][host]:\n",
    "    first_node_id = host_to_nodes[0][host][0]\n",
    "    if first_node_id in activity_graph.nodes:\n",
    "        print(f\"Attributes of node {first_node_id}: {activity_graph.nodes[first_node_id]}\")\n",
    "    else:\n",
    "        print(f\"Node {first_node_id} not found in activity_graph\")\n",
    "else:\n",
    "    print(f\"No nodes for {host} on day 0\")\n",
    "\n",
    "# Optionally, print the list of node IDs for PC-9950 on day 0 (uncommented version of the commented line)\n",
    "# if host_to_nodes[0] is not None and host in host_to_nodes[0]:\n",
    "#     print(f\"Node IDs for {host} on day 0: {host_to_nodes[0][host]}\")\n",
    "# else:\n",
    "#     print(f\"No nodes for {host} on day 0\")"
   ]
  },
  {
   "cell_type": "code",
   "execution_count": 14,
   "metadata": {},
   "outputs": [
    {
     "name": "stdout",
     "output_type": "stream",
     "text": [
      "Modified list: [[1, 555], [3, 555]]\n"
     ]
    }
   ],
   "source": [
    "# Initialize a list of sublists\n",
    "a = [[1, 2], [3, 4]]\n",
    "\n",
    "# Modify the second element of each sublist to 555\n",
    "for sublist in a:\n",
    "    if len(sublist) > 1:  # Ensure the sublist has an index 1\n",
    "        sublist[1] = 555\n",
    "    else:\n",
    "        print(f\"Warning: Sublist {sublist} is too short to modify index 1\")\n",
    "\n",
    "print(f\"Modified list: {a}\")"
   ]
  },
  {
   "cell_type": "code",
   "execution_count": 15,
   "metadata": {},
   "outputs": [
    {
     "name": "stdout",
     "output_type": "stream",
     "text": [
      "List after removing even numbers: [1, 3, 5, 7]\n"
     ]
    }
   ],
   "source": [
    "# Initialize a list of integers\n",
    "a = [1, 2, 3, 4, 5, 6, 7]\n",
    "\n",
    "# Keep only odd numbers\n",
    "a = [num for num in a if num % 2 != 0]\n",
    "\n",
    "print(f\"List after removing even numbers: {a}\")"
   ]
  },
  {
   "cell_type": "code",
   "execution_count": null,
   "metadata": {},
   "outputs": [],
   "source": []
  }
 ],
 "metadata": {
  "kernelspec": {
   "display_name": "venv",
   "language": "python",
   "name": "python3"
  },
  "language_info": {
   "codemirror_mode": {
    "name": "ipython",
    "version": 3
   },
   "file_extension": ".py",
   "mimetype": "text/x-python",
   "name": "python",
   "nbconvert_exporter": "python",
   "pygments_lexer": "ipython3",
   "version": "3.12.3"
  },
  "orig_nbformat": 4
 },
 "nbformat": 4,
 "nbformat_minor": 2
}
